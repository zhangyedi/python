{
 "cells": [
  {
   "cell_type": "markdown",
   "metadata": {},
   "source": [
    "## 关于Numpy、Pandas、Matplotlib\n",
    "\n",
    "1. Numpy：Python的扩充库。用来处理**数组与矩阵运算**，提供了大量的数学函数库。比Python自身的嵌套List高效，由C语言开发。**基础数学计算库**\n",
    "2. Pandas：基于Numpy的工具，为了解决**数据分析任务**而创建。Pandas纳入了大量的库和一些标准的数据模型，提供了高效操作大型数据集所需要的工具。一款最具有**统计特性**的工具包。**上层，做数据分析，主要做表格数据呈现、统计**。常用DataFrame数据结构。\n",
    "3. Matplotlib：python中最著名的**绘图系统**。"
   ]
  },
  {
   "cell_type": "markdown",
   "metadata": {},
   "source": [
    "## Weather data analysis and Visualization"
   ]
  },
  {
   "cell_type": "markdown",
   "metadata": {},
   "source": [
    "<img src=\"figures/weather.JPG\"><img src=\"figures/result.JPG\">"
   ]
  },
  {
   "cell_type": "markdown",
   "metadata": {},
   "source": [
    "## Now, let's start it!"
   ]
  },
  {
   "cell_type": "markdown",
   "metadata": {},
   "source": [
    "### Step 1. 导入工具库"
   ]
  },
  {
   "cell_type": "code",
   "execution_count": 1,
   "metadata": {
    "collapsed": true
   },
   "outputs": [],
   "source": [
    "import numpy as np\n",
    "import pandas as pd\n",
    "import matplotlib.pyplot as plt\n",
    "import re"
   ]
  },
  {
   "cell_type": "markdown",
   "metadata": {},
   "source": [
    "### Step 2. 导入待处理的数据"
   ]
  },
  {
   "cell_type": "code",
   "execution_count": 2,
   "metadata": {},
   "outputs": [
    {
     "data": {
      "text/plain": [
       "pandas.core.frame.DataFrame"
      ]
     },
     "execution_count": 2,
     "metadata": {},
     "output_type": "execute_result"
    }
   ],
   "source": [
    "df = pd.read_excel('weather_data.xlsx',header=0) # pandas的基本数据结构是DataFrame\n",
    "type(df)\n",
    "# df = pd.read_csv('weather_data.csv') csv文档类型更常用"
   ]
  },
  {
   "cell_type": "markdown",
   "metadata": {},
   "source": [
    "其中header关键字会告诉Pandas哪些是数据的列名。如果没有列明的话，就会将它设定为 None。(注：如果你的 dataset 中有中文的话，最好在里面加上 encoding = 'gbk',以避免乱码问题。后面导出数据的时候也一样。)"
   ]
  },
  {
   "cell_type": "code",
   "execution_count": 3,
   "metadata": {},
   "outputs": [
    {
     "data": {
      "text/html": [
       "<div>\n",
       "<style>\n",
       "    .dataframe thead tr:only-child th {\n",
       "        text-align: right;\n",
       "    }\n",
       "\n",
       "    .dataframe thead th {\n",
       "        text-align: left;\n",
       "    }\n",
       "\n",
       "    .dataframe tbody tr th {\n",
       "        vertical-align: top;\n",
       "    }\n",
       "</style>\n",
       "<table border=\"1\" class=\"dataframe\">\n",
       "  <thead>\n",
       "    <tr style=\"text-align: right;\">\n",
       "      <th></th>\n",
       "      <th>日期</th>\n",
       "      <th>最高气温</th>\n",
       "      <th>最低气温</th>\n",
       "      <th>天气</th>\n",
       "      <th>风向风力</th>\n",
       "      <th>空气质量指数</th>\n",
       "    </tr>\n",
       "  </thead>\n",
       "  <tbody>\n",
       "    <tr>\n",
       "      <th>0</th>\n",
       "      <td>2018-12-02星期日</td>\n",
       "      <td>20℃</td>\n",
       "      <td>14℃</td>\n",
       "      <td>小雨~多云</td>\n",
       "      <td>东南风3级</td>\n",
       "      <td>46优</td>\n",
       "    </tr>\n",
       "    <tr>\n",
       "      <th>1</th>\n",
       "      <td>2018-12-03星期一</td>\n",
       "      <td>18℃</td>\n",
       "      <td>14℃</td>\n",
       "      <td>小雨</td>\n",
       "      <td>东南风2级</td>\n",
       "      <td>71良</td>\n",
       "    </tr>\n",
       "  </tbody>\n",
       "</table>\n",
       "</div>"
      ],
      "text/plain": [
       "              日期 最高气温 最低气温     天气   风向风力 空气质量指数\n",
       "0  2018-12-02星期日  20℃  14℃  小雨~多云  东南风3级    46优\n",
       "1  2018-12-03星期一  18℃  14℃     小雨  东南风2级    71良"
      ]
     },
     "execution_count": 3,
     "metadata": {},
     "output_type": "execute_result"
    }
   ],
   "source": [
    "df.head(2) # default 5"
   ]
  },
  {
   "cell_type": "code",
   "execution_count": 4,
   "metadata": {},
   "outputs": [
    {
     "data": {
      "text/html": [
       "<div>\n",
       "<style>\n",
       "    .dataframe thead tr:only-child th {\n",
       "        text-align: right;\n",
       "    }\n",
       "\n",
       "    .dataframe thead th {\n",
       "        text-align: left;\n",
       "    }\n",
       "\n",
       "    .dataframe tbody tr th {\n",
       "        vertical-align: top;\n",
       "    }\n",
       "</style>\n",
       "<table border=\"1\" class=\"dataframe\">\n",
       "  <thead>\n",
       "    <tr style=\"text-align: right;\">\n",
       "      <th></th>\n",
       "      <th>日期</th>\n",
       "      <th>最高气温</th>\n",
       "      <th>最低气温</th>\n",
       "      <th>天气</th>\n",
       "      <th>风向风力</th>\n",
       "      <th>空气质量指数</th>\n",
       "    </tr>\n",
       "  </thead>\n",
       "  <tbody>\n",
       "    <tr>\n",
       "      <th>170</th>\n",
       "      <td>2018-07-27星期五</td>\n",
       "      <td>36℃</td>\n",
       "      <td>27℃</td>\n",
       "      <td>雷阵雨~多云</td>\n",
       "      <td>东南风1-2级</td>\n",
       "      <td>84良</td>\n",
       "    </tr>\n",
       "    <tr>\n",
       "      <th>171</th>\n",
       "      <td>2018-07-28星期六</td>\n",
       "      <td>36℃</td>\n",
       "      <td>27℃</td>\n",
       "      <td>多云</td>\n",
       "      <td>东南风1-2级</td>\n",
       "      <td>74良</td>\n",
       "    </tr>\n",
       "    <tr>\n",
       "      <th>172</th>\n",
       "      <td>2018-07-29星期日</td>\n",
       "      <td>34℃</td>\n",
       "      <td>27℃</td>\n",
       "      <td>多云~阴</td>\n",
       "      <td>东北风1-2级</td>\n",
       "      <td>65良</td>\n",
       "    </tr>\n",
       "    <tr>\n",
       "      <th>173</th>\n",
       "      <td>2018-07-30星期一</td>\n",
       "      <td>35℃</td>\n",
       "      <td>27℃</td>\n",
       "      <td>雷阵雨~多云</td>\n",
       "      <td>北风3-4级</td>\n",
       "      <td>53良</td>\n",
       "    </tr>\n",
       "    <tr>\n",
       "      <th>174</th>\n",
       "      <td>2018-07-31星期二</td>\n",
       "      <td>34℃</td>\n",
       "      <td>26℃</td>\n",
       "      <td>多云</td>\n",
       "      <td>东北风1-2级</td>\n",
       "      <td>36优</td>\n",
       "    </tr>\n",
       "  </tbody>\n",
       "</table>\n",
       "</div>"
      ],
      "text/plain": [
       "                日期 最高气温 最低气温      天气     风向风力 空气质量指数\n",
       "170  2018-07-27星期五  36℃  27℃  雷阵雨~多云  东南风1-2级    84良\n",
       "171  2018-07-28星期六  36℃  27℃      多云  东南风1-2级    74良\n",
       "172  2018-07-29星期日  34℃  27℃    多云~阴  东北风1-2级    65良\n",
       "173  2018-07-30星期一  35℃  27℃  雷阵雨~多云   北风3-4级    53良\n",
       "174  2018-07-31星期二  34℃  26℃      多云  东北风1-2级    36优"
      ]
     },
     "execution_count": 4,
     "metadata": {},
     "output_type": "execute_result"
    }
   ],
   "source": [
    "df.tail(5)"
   ]
  },
  {
   "cell_type": "code",
   "execution_count": 5,
   "metadata": {},
   "outputs": [
    {
     "data": {
      "text/html": [
       "<div>\n",
       "<style>\n",
       "    .dataframe thead tr:only-child th {\n",
       "        text-align: right;\n",
       "    }\n",
       "\n",
       "    .dataframe thead th {\n",
       "        text-align: left;\n",
       "    }\n",
       "\n",
       "    .dataframe tbody tr th {\n",
       "        vertical-align: top;\n",
       "    }\n",
       "</style>\n",
       "<table border=\"1\" class=\"dataframe\">\n",
       "  <thead>\n",
       "    <tr style=\"text-align: right;\">\n",
       "      <th></th>\n",
       "      <th>date</th>\n",
       "      <th>high</th>\n",
       "      <th>low</th>\n",
       "      <th>weather</th>\n",
       "      <th>wind</th>\n",
       "      <th>pollution</th>\n",
       "    </tr>\n",
       "  </thead>\n",
       "  <tbody>\n",
       "    <tr>\n",
       "      <th>0</th>\n",
       "      <td>2018-12-02星期日</td>\n",
       "      <td>20℃</td>\n",
       "      <td>14℃</td>\n",
       "      <td>小雨~多云</td>\n",
       "      <td>东南风3级</td>\n",
       "      <td>46优</td>\n",
       "    </tr>\n",
       "    <tr>\n",
       "      <th>1</th>\n",
       "      <td>2018-12-03星期一</td>\n",
       "      <td>18℃</td>\n",
       "      <td>14℃</td>\n",
       "      <td>小雨</td>\n",
       "      <td>东南风2级</td>\n",
       "      <td>71良</td>\n",
       "    </tr>\n",
       "    <tr>\n",
       "      <th>2</th>\n",
       "      <td>2018-12-04星期二</td>\n",
       "      <td>16℃</td>\n",
       "      <td>10℃</td>\n",
       "      <td>小雨~阴</td>\n",
       "      <td>西北风4级</td>\n",
       "      <td>45优</td>\n",
       "    </tr>\n",
       "    <tr>\n",
       "      <th>3</th>\n",
       "      <td>2018-12-05星期三</td>\n",
       "      <td>14℃</td>\n",
       "      <td>11℃</td>\n",
       "      <td>小雨</td>\n",
       "      <td>东北风4级</td>\n",
       "      <td>51良</td>\n",
       "    </tr>\n",
       "    <tr>\n",
       "      <th>4</th>\n",
       "      <td>2018-12-06星期四</td>\n",
       "      <td>11℃</td>\n",
       "      <td>6℃</td>\n",
       "      <td>中雨~小雨</td>\n",
       "      <td>东北风4级</td>\n",
       "      <td>26优</td>\n",
       "    </tr>\n",
       "  </tbody>\n",
       "</table>\n",
       "</div>"
      ],
      "text/plain": [
       "            date high  low weather   wind pollution\n",
       "0  2018-12-02星期日  20℃  14℃   小雨~多云  东南风3级       46优\n",
       "1  2018-12-03星期一  18℃  14℃      小雨  东南风2级       71良\n",
       "2  2018-12-04星期二  16℃  10℃    小雨~阴  西北风4级       45优\n",
       "3  2018-12-05星期三  14℃  11℃      小雨  东北风4级       51良\n",
       "4  2018-12-06星期四  11℃   6℃   中雨~小雨  东北风4级       26优"
      ]
     },
     "execution_count": 5,
     "metadata": {},
     "output_type": "execute_result"
    }
   ],
   "source": [
    "df.columns=['date','high','low','weather','wind','pollution']\n",
    "df.head()"
   ]
  },
  {
   "cell_type": "code",
   "execution_count": 6,
   "metadata": {},
   "outputs": [
    {
     "data": {
      "text/plain": [
       "175"
      ]
     },
     "execution_count": 6,
     "metadata": {},
     "output_type": "execute_result"
    }
   ],
   "source": [
    "len(df) # 返回数据集中的记录数量"
   ]
  },
  {
   "cell_type": "code",
   "execution_count": 7,
   "metadata": {},
   "outputs": [
    {
     "data": {
      "text/plain": [
       "'2018-12-04星期二'"
      ]
     },
     "execution_count": 7,
     "metadata": {},
     "output_type": "execute_result"
    }
   ],
   "source": [
    "df['date'][2]"
   ]
  },
  {
   "cell_type": "code",
   "execution_count": 8,
   "metadata": {},
   "outputs": [
    {
     "data": {
      "text/plain": [
       "pandas.core.series.Series"
      ]
     },
     "execution_count": 8,
     "metadata": {},
     "output_type": "execute_result"
    }
   ],
   "source": [
    "# df.weather\n",
    "type(df.weather)"
   ]
  },
  {
   "cell_type": "markdown",
   "metadata": {},
   "source": [
    "### Step 3. 开始处理数据"
   ]
  },
  {
   "attachments": {},
   "cell_type": "markdown",
   "metadata": {},
   "source": [
    "### Task 1:  Data Process\n",
    " 预处理1.  拆分“日期”和“星期”"
   ]
  },
  {
   "cell_type": "code",
   "execution_count": 9,
   "metadata": {},
   "outputs": [
    {
     "data": {
      "text/html": [
       "<div>\n",
       "<style>\n",
       "    .dataframe thead tr:only-child th {\n",
       "        text-align: right;\n",
       "    }\n",
       "\n",
       "    .dataframe thead th {\n",
       "        text-align: left;\n",
       "    }\n",
       "\n",
       "    .dataframe tbody tr th {\n",
       "        vertical-align: top;\n",
       "    }\n",
       "</style>\n",
       "<table border=\"1\" class=\"dataframe\">\n",
       "  <thead>\n",
       "    <tr style=\"text-align: right;\">\n",
       "      <th></th>\n",
       "      <th>date</th>\n",
       "      <th>high</th>\n",
       "      <th>low</th>\n",
       "      <th>weather</th>\n",
       "      <th>wind</th>\n",
       "      <th>pollution</th>\n",
       "      <th>星期</th>\n",
       "      <th>日期</th>\n",
       "    </tr>\n",
       "  </thead>\n",
       "  <tbody>\n",
       "    <tr>\n",
       "      <th>0</th>\n",
       "      <td>2018-12-02星期日</td>\n",
       "      <td>20℃</td>\n",
       "      <td>14℃</td>\n",
       "      <td>小雨~多云</td>\n",
       "      <td>东南风3级</td>\n",
       "      <td>46优</td>\n",
       "      <td>星期日</td>\n",
       "      <td>2018-12-02</td>\n",
       "    </tr>\n",
       "    <tr>\n",
       "      <th>1</th>\n",
       "      <td>2018-12-03星期一</td>\n",
       "      <td>18℃</td>\n",
       "      <td>14℃</td>\n",
       "      <td>小雨</td>\n",
       "      <td>东南风2级</td>\n",
       "      <td>71良</td>\n",
       "      <td>星期一</td>\n",
       "      <td>2018-12-03</td>\n",
       "    </tr>\n",
       "  </tbody>\n",
       "</table>\n",
       "</div>"
      ],
      "text/plain": [
       "            date high  low weather   wind pollution   星期          日期\n",
       "0  2018-12-02星期日  20℃  14℃   小雨~多云  东南风3级       46优  星期日  2018-12-02\n",
       "1  2018-12-03星期一  18℃  14℃      小雨  东南风2级       71良  星期一  2018-12-03"
      ]
     },
     "execution_count": 9,
     "metadata": {},
     "output_type": "execute_result"
    }
   ],
   "source": [
    "df_split = df.date.str.partition('星期')\n",
    "df['星期']=df_split[1]+df_split[2]\n",
    "df['日期']=df_split[0]\n",
    "df.head(2)"
   ]
  },
  {
   "cell_type": "markdown",
   "metadata": {},
   "source": [
    "预处理2. 拆分“天气”：“最好天气” or “最坏天气”： \n",
    "晴>多云>阴>阵雨>雷阵雨>小雨>中雨>大雨>暴雨>雨夹雪>中雪"
   ]
  },
  {
   "cell_type": "code",
   "execution_count": 10,
   "metadata": {},
   "outputs": [
    {
     "data": {
      "text/html": [
       "<div>\n",
       "<style>\n",
       "    .dataframe thead tr:only-child th {\n",
       "        text-align: right;\n",
       "    }\n",
       "\n",
       "    .dataframe thead th {\n",
       "        text-align: left;\n",
       "    }\n",
       "\n",
       "    .dataframe tbody tr th {\n",
       "        vertical-align: top;\n",
       "    }\n",
       "</style>\n",
       "<table border=\"1\" class=\"dataframe\">\n",
       "  <thead>\n",
       "    <tr style=\"text-align: right;\">\n",
       "      <th></th>\n",
       "      <th>date</th>\n",
       "      <th>high</th>\n",
       "      <th>low</th>\n",
       "      <th>weather</th>\n",
       "      <th>wind</th>\n",
       "      <th>pollution</th>\n",
       "      <th>星期</th>\n",
       "      <th>日期</th>\n",
       "      <th>最好天气</th>\n",
       "      <th>最坏天气</th>\n",
       "    </tr>\n",
       "  </thead>\n",
       "  <tbody>\n",
       "    <tr>\n",
       "      <th>0</th>\n",
       "      <td>2018-12-02星期日</td>\n",
       "      <td>20℃</td>\n",
       "      <td>14℃</td>\n",
       "      <td>小雨~多云</td>\n",
       "      <td>东南风3级</td>\n",
       "      <td>46优</td>\n",
       "      <td>星期日</td>\n",
       "      <td>2018-12-02</td>\n",
       "      <td>多云</td>\n",
       "      <td>小雨</td>\n",
       "    </tr>\n",
       "    <tr>\n",
       "      <th>1</th>\n",
       "      <td>2018-12-03星期一</td>\n",
       "      <td>18℃</td>\n",
       "      <td>14℃</td>\n",
       "      <td>小雨</td>\n",
       "      <td>东南风2级</td>\n",
       "      <td>71良</td>\n",
       "      <td>星期一</td>\n",
       "      <td>2018-12-03</td>\n",
       "      <td>小雨</td>\n",
       "      <td>小雨</td>\n",
       "    </tr>\n",
       "  </tbody>\n",
       "</table>\n",
       "</div>"
      ],
      "text/plain": [
       "            date high  low weather   wind pollution   星期          日期 最好天气 最坏天气\n",
       "0  2018-12-02星期日  20℃  14℃   小雨~多云  东南风3级       46优  星期日  2018-12-02   多云   小雨\n",
       "1  2018-12-03星期一  18℃  14℃      小雨  东南风2级       71良  星期一  2018-12-03   小雨   小雨"
      ]
     },
     "execution_count": 10,
     "metadata": {},
     "output_type": "execute_result"
    }
   ],
   "source": [
    "weather_order = ['晴', '多云', '阴', '阵雨', '雷阵雨', '小雨', '中雨', '大雨', '暴雨', '雨夹雪', '中雪']\n",
    "def weather_parser(weather, type='best'):\n",
    "    indices = [weather_order.index(i) for i in weather.split('~')]\n",
    "    if type == 'best':\n",
    "        return weather_order[min(indices)]\n",
    "    elif type == 'worst':\n",
    "        return weather_order[max(indices)]\n",
    "\n",
    "df['最好天气'] = df['weather'].apply(lambda x: weather_parser(x, 'best'))\n",
    "df['最坏天气'] = df['weather'].apply(lambda x: weather_parser(x, 'worst'))\n",
    "df.head(2)"
   ]
  },
  {
   "cell_type": "markdown",
   "metadata": {},
   "source": [
    "预处理3. 拆分风向风力：风向+最低风速+最高风速"
   ]
  },
  {
   "cell_type": "code",
   "execution_count": 11,
   "metadata": {},
   "outputs": [
    {
     "data": {
      "text/html": [
       "<div>\n",
       "<style>\n",
       "    .dataframe thead tr:only-child th {\n",
       "        text-align: right;\n",
       "    }\n",
       "\n",
       "    .dataframe thead th {\n",
       "        text-align: left;\n",
       "    }\n",
       "\n",
       "    .dataframe tbody tr th {\n",
       "        vertical-align: top;\n",
       "    }\n",
       "</style>\n",
       "<table border=\"1\" class=\"dataframe\">\n",
       "  <thead>\n",
       "    <tr style=\"text-align: right;\">\n",
       "      <th></th>\n",
       "      <th>date</th>\n",
       "      <th>high</th>\n",
       "      <th>low</th>\n",
       "      <th>weather</th>\n",
       "      <th>wind</th>\n",
       "      <th>pollution</th>\n",
       "      <th>星期</th>\n",
       "      <th>日期</th>\n",
       "      <th>最好天气</th>\n",
       "      <th>最坏天气</th>\n",
       "    </tr>\n",
       "  </thead>\n",
       "  <tbody>\n",
       "    <tr>\n",
       "      <th>173</th>\n",
       "      <td>2018-07-30星期一</td>\n",
       "      <td>35℃</td>\n",
       "      <td>27℃</td>\n",
       "      <td>雷阵雨~多云</td>\n",
       "      <td>北风3-4级</td>\n",
       "      <td>53良</td>\n",
       "      <td>星期一</td>\n",
       "      <td>2018-07-30</td>\n",
       "      <td>多云</td>\n",
       "      <td>雷阵雨</td>\n",
       "    </tr>\n",
       "    <tr>\n",
       "      <th>174</th>\n",
       "      <td>2018-07-31星期二</td>\n",
       "      <td>34℃</td>\n",
       "      <td>26℃</td>\n",
       "      <td>多云</td>\n",
       "      <td>东北风1-2级</td>\n",
       "      <td>36优</td>\n",
       "      <td>星期二</td>\n",
       "      <td>2018-07-31</td>\n",
       "      <td>多云</td>\n",
       "      <td>多云</td>\n",
       "    </tr>\n",
       "  </tbody>\n",
       "</table>\n",
       "</div>"
      ],
      "text/plain": [
       "              date high  low weather     wind pollution   星期          日期 最好天气  \\\n",
       "173  2018-07-30星期一  35℃  27℃  雷阵雨~多云   北风3-4级       53良  星期一  2018-07-30   多云   \n",
       "174  2018-07-31星期二  34℃  26℃      多云  东北风1-2级       36优  星期二  2018-07-31   多云   \n",
       "\n",
       "    最坏天气  \n",
       "173  雷阵雨  \n",
       "174   多云  "
      ]
     },
     "execution_count": 11,
     "metadata": {},
     "output_type": "execute_result"
    }
   ],
   "source": [
    "df.tail(2)"
   ]
  },
  {
   "cell_type": "code",
   "execution_count": 12,
   "metadata": {},
   "outputs": [
    {
     "data": {
      "text/html": [
       "<div>\n",
       "<style>\n",
       "    .dataframe thead tr:only-child th {\n",
       "        text-align: right;\n",
       "    }\n",
       "\n",
       "    .dataframe thead th {\n",
       "        text-align: left;\n",
       "    }\n",
       "\n",
       "    .dataframe tbody tr th {\n",
       "        vertical-align: top;\n",
       "    }\n",
       "</style>\n",
       "<table border=\"1\" class=\"dataframe\">\n",
       "  <thead>\n",
       "    <tr style=\"text-align: right;\">\n",
       "      <th></th>\n",
       "      <th>date</th>\n",
       "      <th>high</th>\n",
       "      <th>low</th>\n",
       "      <th>weather</th>\n",
       "      <th>wind</th>\n",
       "      <th>pollution</th>\n",
       "      <th>星期</th>\n",
       "      <th>日期</th>\n",
       "      <th>最好天气</th>\n",
       "      <th>最坏天气</th>\n",
       "      <th>最低风速</th>\n",
       "      <th>最高风速</th>\n",
       "      <th>风向</th>\n",
       "    </tr>\n",
       "  </thead>\n",
       "  <tbody>\n",
       "    <tr>\n",
       "      <th>173</th>\n",
       "      <td>2018-07-30星期一</td>\n",
       "      <td>35℃</td>\n",
       "      <td>27℃</td>\n",
       "      <td>雷阵雨~多云</td>\n",
       "      <td>北风3-4级</td>\n",
       "      <td>53良</td>\n",
       "      <td>星期一</td>\n",
       "      <td>2018-07-30</td>\n",
       "      <td>多云</td>\n",
       "      <td>雷阵雨</td>\n",
       "      <td>3</td>\n",
       "      <td>4</td>\n",
       "      <td>北风</td>\n",
       "    </tr>\n",
       "    <tr>\n",
       "      <th>174</th>\n",
       "      <td>2018-07-31星期二</td>\n",
       "      <td>34℃</td>\n",
       "      <td>26℃</td>\n",
       "      <td>多云</td>\n",
       "      <td>东北风1-2级</td>\n",
       "      <td>36优</td>\n",
       "      <td>星期二</td>\n",
       "      <td>2018-07-31</td>\n",
       "      <td>多云</td>\n",
       "      <td>多云</td>\n",
       "      <td>1</td>\n",
       "      <td>2</td>\n",
       "      <td>东北风</td>\n",
       "    </tr>\n",
       "  </tbody>\n",
       "</table>\n",
       "</div>"
      ],
      "text/plain": [
       "              date high  low weather     wind pollution   星期          日期 最好天气  \\\n",
       "173  2018-07-30星期一  35℃  27℃  雷阵雨~多云   北风3-4级       53良  星期一  2018-07-30   多云   \n",
       "174  2018-07-31星期二  34℃  26℃      多云  东北风1-2级       36优  星期二  2018-07-31   多云   \n",
       "\n",
       "    最坏天气  最低风速  最高风速   风向  \n",
       "173  雷阵雨     3     4   北风  \n",
       "174   多云     1     2  东北风  "
      ]
     },
     "execution_count": 12,
     "metadata": {},
     "output_type": "execute_result"
    }
   ],
   "source": [
    "def get_wind_direction(s):\n",
    "    s1, s2, s3 = s.partition(\"风\")\n",
    "    return s1 + s2\n",
    "\n",
    "def get_wind_power(s, type='max'):\n",
    "    s1, s2, s3 = s.partition(\"风\")\n",
    "    s3 = s3[:-1]\n",
    "    powers = s3.split('-')\n",
    "    if type == 'max':\n",
    "        return int(max(powers))\n",
    "    elif type == 'min':\n",
    "        return int(min(powers))\n",
    "\n",
    "df['最低风速'] = df['wind'].apply(lambda x: get_wind_power(x, 'min'))\n",
    "df['最高风速'] = df['wind'].apply(lambda x: get_wind_power(x, 'max'))\n",
    "df['风向'] = df['wind'].apply(get_wind_direction)\n",
    "df.tail(2)"
   ]
  },
  {
   "cell_type": "markdown",
   "metadata": {},
   "source": [
    "预处理4. 拆分空气质量指数：指数+质量"
   ]
  },
  {
   "cell_type": "code",
   "execution_count": 13,
   "metadata": {},
   "outputs": [
    {
     "data": {
      "text/html": [
       "<div>\n",
       "<style>\n",
       "    .dataframe thead tr:only-child th {\n",
       "        text-align: right;\n",
       "    }\n",
       "\n",
       "    .dataframe thead th {\n",
       "        text-align: left;\n",
       "    }\n",
       "\n",
       "    .dataframe tbody tr th {\n",
       "        vertical-align: top;\n",
       "    }\n",
       "</style>\n",
       "<table border=\"1\" class=\"dataframe\">\n",
       "  <thead>\n",
       "    <tr style=\"text-align: right;\">\n",
       "      <th></th>\n",
       "      <th>date</th>\n",
       "      <th>high</th>\n",
       "      <th>low</th>\n",
       "      <th>weather</th>\n",
       "      <th>wind</th>\n",
       "      <th>pollution</th>\n",
       "      <th>星期</th>\n",
       "      <th>日期</th>\n",
       "      <th>最好天气</th>\n",
       "      <th>最坏天气</th>\n",
       "      <th>最低风速</th>\n",
       "      <th>最高风速</th>\n",
       "      <th>风向</th>\n",
       "      <th>空气指数</th>\n",
       "      <th>空气质量</th>\n",
       "    </tr>\n",
       "  </thead>\n",
       "  <tbody>\n",
       "    <tr>\n",
       "      <th>0</th>\n",
       "      <td>2018-12-02星期日</td>\n",
       "      <td>20℃</td>\n",
       "      <td>14℃</td>\n",
       "      <td>小雨~多云</td>\n",
       "      <td>东南风3级</td>\n",
       "      <td>46优</td>\n",
       "      <td>星期日</td>\n",
       "      <td>2018-12-02</td>\n",
       "      <td>多云</td>\n",
       "      <td>小雨</td>\n",
       "      <td>3</td>\n",
       "      <td>3</td>\n",
       "      <td>东南风</td>\n",
       "      <td>46</td>\n",
       "      <td>优</td>\n",
       "    </tr>\n",
       "    <tr>\n",
       "      <th>1</th>\n",
       "      <td>2018-12-03星期一</td>\n",
       "      <td>18℃</td>\n",
       "      <td>14℃</td>\n",
       "      <td>小雨</td>\n",
       "      <td>东南风2级</td>\n",
       "      <td>71良</td>\n",
       "      <td>星期一</td>\n",
       "      <td>2018-12-03</td>\n",
       "      <td>小雨</td>\n",
       "      <td>小雨</td>\n",
       "      <td>2</td>\n",
       "      <td>2</td>\n",
       "      <td>东南风</td>\n",
       "      <td>71</td>\n",
       "      <td>良</td>\n",
       "    </tr>\n",
       "  </tbody>\n",
       "</table>\n",
       "</div>"
      ],
      "text/plain": [
       "            date high  low weather   wind pollution   星期          日期 最好天气  \\\n",
       "0  2018-12-02星期日  20℃  14℃   小雨~多云  东南风3级       46优  星期日  2018-12-02   多云   \n",
       "1  2018-12-03星期一  18℃  14℃      小雨  东南风2级       71良  星期一  2018-12-03   小雨   \n",
       "\n",
       "  最坏天气  最低风速  最高风速   风向  空气指数 空气质量  \n",
       "0   小雨     3     3  东南风    46    优  \n",
       "1   小雨     2     2  东南风    71    良  "
      ]
     },
     "execution_count": 13,
     "metadata": {},
     "output_type": "execute_result"
    }
   ],
   "source": [
    "df['空气指数'] = df['pollution'].apply(lambda x: int(re.split(re.compile(r'\\D+'), x)[0]))\n",
    "df['空气质量'] = df['pollution'].apply(lambda x: re.split(re.compile(r'\\d+'), x)[1])\n",
    "df.head(2)"
   ]
  },
  {
   "cell_type": "markdown",
   "metadata": {},
   "source": [
    "预处理5. remove 温度单位"
   ]
  },
  {
   "cell_type": "code",
   "execution_count": 14,
   "metadata": {},
   "outputs": [
    {
     "data": {
      "text/html": [
       "<div>\n",
       "<style>\n",
       "    .dataframe thead tr:only-child th {\n",
       "        text-align: right;\n",
       "    }\n",
       "\n",
       "    .dataframe thead th {\n",
       "        text-align: left;\n",
       "    }\n",
       "\n",
       "    .dataframe tbody tr th {\n",
       "        vertical-align: top;\n",
       "    }\n",
       "</style>\n",
       "<table border=\"1\" class=\"dataframe\">\n",
       "  <thead>\n",
       "    <tr style=\"text-align: right;\">\n",
       "      <th></th>\n",
       "      <th>date</th>\n",
       "      <th>high</th>\n",
       "      <th>low</th>\n",
       "      <th>weather</th>\n",
       "      <th>wind</th>\n",
       "      <th>pollution</th>\n",
       "      <th>星期</th>\n",
       "      <th>日期</th>\n",
       "      <th>最好天气</th>\n",
       "      <th>最坏天气</th>\n",
       "      <th>最低风速</th>\n",
       "      <th>最高风速</th>\n",
       "      <th>风向</th>\n",
       "      <th>空气指数</th>\n",
       "      <th>空气质量</th>\n",
       "      <th>最高气温</th>\n",
       "      <th>最低气温</th>\n",
       "    </tr>\n",
       "  </thead>\n",
       "  <tbody>\n",
       "    <tr>\n",
       "      <th>0</th>\n",
       "      <td>2018-12-02星期日</td>\n",
       "      <td>20℃</td>\n",
       "      <td>14℃</td>\n",
       "      <td>小雨~多云</td>\n",
       "      <td>东南风3级</td>\n",
       "      <td>46优</td>\n",
       "      <td>星期日</td>\n",
       "      <td>2018-12-02</td>\n",
       "      <td>多云</td>\n",
       "      <td>小雨</td>\n",
       "      <td>3</td>\n",
       "      <td>3</td>\n",
       "      <td>东南风</td>\n",
       "      <td>46</td>\n",
       "      <td>优</td>\n",
       "      <td>20</td>\n",
       "      <td>14</td>\n",
       "    </tr>\n",
       "    <tr>\n",
       "      <th>1</th>\n",
       "      <td>2018-12-03星期一</td>\n",
       "      <td>18℃</td>\n",
       "      <td>14℃</td>\n",
       "      <td>小雨</td>\n",
       "      <td>东南风2级</td>\n",
       "      <td>71良</td>\n",
       "      <td>星期一</td>\n",
       "      <td>2018-12-03</td>\n",
       "      <td>小雨</td>\n",
       "      <td>小雨</td>\n",
       "      <td>2</td>\n",
       "      <td>2</td>\n",
       "      <td>东南风</td>\n",
       "      <td>71</td>\n",
       "      <td>良</td>\n",
       "      <td>18</td>\n",
       "      <td>14</td>\n",
       "    </tr>\n",
       "  </tbody>\n",
       "</table>\n",
       "</div>"
      ],
      "text/plain": [
       "            date high  low weather   wind pollution   星期          日期 最好天气  \\\n",
       "0  2018-12-02星期日  20℃  14℃   小雨~多云  东南风3级       46优  星期日  2018-12-02   多云   \n",
       "1  2018-12-03星期一  18℃  14℃      小雨  东南风2级       71良  星期一  2018-12-03   小雨   \n",
       "\n",
       "  最坏天气  最低风速  最高风速   风向  空气指数 空气质量  最高气温  最低气温  \n",
       "0   小雨     3     3  东南风    46    优    20    14  \n",
       "1   小雨     2     2  东南风    71    良    18    14  "
      ]
     },
     "execution_count": 14,
     "metadata": {},
     "output_type": "execute_result"
    }
   ],
   "source": [
    "df['最高气温'] = df['high'].apply(lambda x: int(x.split('℃', 1)[0]))\n",
    "df['最低气温'] = df['low'].apply(lambda x: int(x.split('℃', 1)[0]))\n",
    "df.head(2)"
   ]
  },
  {
   "cell_type": "code",
   "execution_count": 15,
   "metadata": {},
   "outputs": [
    {
     "data": {
      "text/html": [
       "<div>\n",
       "<style>\n",
       "    .dataframe thead tr:only-child th {\n",
       "        text-align: right;\n",
       "    }\n",
       "\n",
       "    .dataframe thead th {\n",
       "        text-align: left;\n",
       "    }\n",
       "\n",
       "    .dataframe tbody tr th {\n",
       "        vertical-align: top;\n",
       "    }\n",
       "</style>\n",
       "<table border=\"1\" class=\"dataframe\">\n",
       "  <thead>\n",
       "    <tr style=\"text-align: right;\">\n",
       "      <th></th>\n",
       "      <th>日期</th>\n",
       "      <th>星期</th>\n",
       "      <th>最低气温</th>\n",
       "      <th>最高气温</th>\n",
       "      <th>最坏天气</th>\n",
       "      <th>最好天气</th>\n",
       "      <th>风向</th>\n",
       "      <th>最低风速</th>\n",
       "      <th>最高风速</th>\n",
       "      <th>空气指数</th>\n",
       "      <th>空气质量</th>\n",
       "    </tr>\n",
       "  </thead>\n",
       "  <tbody>\n",
       "    <tr>\n",
       "      <th>0</th>\n",
       "      <td>2018-12-02</td>\n",
       "      <td>星期日</td>\n",
       "      <td>14</td>\n",
       "      <td>20</td>\n",
       "      <td>小雨</td>\n",
       "      <td>多云</td>\n",
       "      <td>东南风</td>\n",
       "      <td>3</td>\n",
       "      <td>3</td>\n",
       "      <td>46</td>\n",
       "      <td>优</td>\n",
       "    </tr>\n",
       "    <tr>\n",
       "      <th>1</th>\n",
       "      <td>2018-12-03</td>\n",
       "      <td>星期一</td>\n",
       "      <td>14</td>\n",
       "      <td>18</td>\n",
       "      <td>小雨</td>\n",
       "      <td>小雨</td>\n",
       "      <td>东南风</td>\n",
       "      <td>2</td>\n",
       "      <td>2</td>\n",
       "      <td>71</td>\n",
       "      <td>良</td>\n",
       "    </tr>\n",
       "  </tbody>\n",
       "</table>\n",
       "</div>"
      ],
      "text/plain": [
       "           日期   星期  最低气温  最高气温 最坏天气 最好天气   风向  最低风速  最高风速  空气指数 空气质量\n",
       "0  2018-12-02  星期日    14    20   小雨   多云  东南风     3     3    46    优\n",
       "1  2018-12-03  星期一    14    18   小雨   小雨  东南风     2     2    71    良"
      ]
     },
     "execution_count": 15,
     "metadata": {},
     "output_type": "execute_result"
    }
   ],
   "source": [
    "df.drop(['high', 'low', 'weather','wind','pollution'], axis=1, inplace=True)\n",
    "df=df[['日期', '星期', '最低气温', '最高气温', '最坏天气', '最好天气',\n",
    "         '风向', '最低风速', '最高风速', '空气指数', '空气质量']]\n",
    "# order = ['日期', '星期', '最低气温', '最高气温', '最坏天气', '最好天气',\n",
    "#          '风向', '最低风速', '最高风速', '空气指数', '空气质量']\n",
    "# df.reindex(order)\n",
    "df.head(2)"
   ]
  },
  {
   "attachments": {},
   "cell_type": "markdown",
   "metadata": {},
   "source": [
    "### Task 2:  Two Lines Plot\n",
    "\n",
    "** Draw the lines of “最高气温” and “最低气温” for latest 30 days **"
   ]
  },
  {
   "cell_type": "markdown",
   "metadata": {},
   "source": [
    "<img src=\"figures/two-line-plot.png\" width=70%>"
   ]
  },
  {
   "cell_type": "code",
   "execution_count": 16,
   "metadata": {},
   "outputs": [
    {
     "data": {
      "image/png": "[encoded data removed]",
      "text/plain": [
       "<matplotlib.figure.Figure at 0x1e8012163c8>"
      ]
     },
     "metadata": {},
     "output_type": "display_data"
    }
   ],
   "source": [
    "def Task2():\n",
    "    '''Two Lines Plot: Daily high and low temperatures latest 30 day.'''\n",
    "    col_1 = df['日期'].sort_values()\n",
    "    dates = col_1.values[-30:]\n",
    "    index = col_1.index\n",
    "    col_2 = df['最高气温']\n",
    "    highs = col_2.reindex(index).values[-30:]\n",
    "    col_3 = df['最低气温']\n",
    "    lows = col_3.reindex(index).values[-30:]\n",
    "\n",
    "    fig, ax = plt.subplots()  # create a fig and a plot\n",
    "    ax.plot(dates, highs, 'r', dates, lows, 'b')\n",
    "    plt.fill_between(dates, highs, lows, facecolor='blue', alpha=0.1)\n",
    "\n",
    "    plt.title(\"Daily high and low temperatures between {} and {}\".format(dates[0], dates[-1]), fontsize=17)\n",
    "    plt.ylabel(\"Temerature (F)\", fontsize=16)\n",
    "    fig.autofmt_xdate()\n",
    "\n",
    "    fig.savefig(\"Temp.png\")\n",
    "    plt.show()\n",
    "    \n",
    "Task2()"
   ]
  },
  {
   "attachments": {},
   "cell_type": "markdown",
   "metadata": {},
   "source": [
    "### Task 3:  Two subplots\n",
    "\n",
    "Draw two plots, one is the plot in Task 2 and the another is the line of difference in temperature in the latest 30 days."
   ]
  },
  {
   "cell_type": "markdown",
   "metadata": {},
   "source": [
    "<img src=\"figures/result.jpg\">"
   ]
  },
  {
   "cell_type": "code",
   "execution_count": 17,
   "metadata": {},
   "outputs": [
    {
     "data": {
      "image/png": "[encoded data removed]",
      "text/plain": [
       "<matplotlib.figure.Figure at 0x1e801536d68>"
      ]
     },
     "metadata": {},
     "output_type": "display_data"
    }
   ],
   "source": [
    "def Task3():\n",
    "    '''Two plots'''\n",
    "    col_1 = df['日期'].sort_values()\n",
    "    dates = col_1.values[-30:]\n",
    "    index = col_1.index\n",
    "    col_2 = df['最高气温']\n",
    "    highs = col_2.reindex(index).values[-30:]\n",
    "    col_3 = df['最低气温']\n",
    "    lows = col_3.reindex(index).values[-30:]\n",
    "\n",
    "    diff = (df['最高气温'] - df['最低气温']).reindex(index).values[-30:]\n",
    "\n",
    "    fig, axs = plt.subplots(2, 1)\n",
    "    axs[0].plot(dates, highs, 'r', label=\"High\")\n",
    "    axs[0].plot(dates, lows, 'b', label=\"Low\")\n",
    "\n",
    "    axs[0].set_ylabel(\"Temerature (F)\", fontsize=13)\n",
    "    axs[0].legend()\n",
    "\n",
    "    axs[1].plot(dates, diff, 'g', label=\"Diff\")\n",
    "    axs[1].set_ylabel('Difference in temperature (F)', fontsize=10)\n",
    "    axs[1].legend()\n",
    "    fig.autofmt_xdate()\n",
    "    fig.tight_layout()\n",
    "    fig.suptitle(\"Daily high and low temperatures between {} and {}\".format(dates[0], dates[-1]), fontsize=12)\n",
    "    plt.show()\n",
    "#     plt.title(\"Daily high and low temperatures between {} and {}\")\n",
    "    \n",
    "Task3()"
   ]
  }
 ],
 "metadata": {
  "kernelspec": {
   "display_name": "Python 3",
   "language": "python",
   "name": "python3"
  },
  "language_info": {
   "codemirror_mode": {
    "name": "ipython",
    "version": 3
   },
   "file_extension": ".py",
   "mimetype": "text/x-python",
   "name": "python",
   "nbconvert_exporter": "python",
   "pygments_lexer": "ipython3",
   "version": "3.6.3"
  }
 },
 "nbformat": 4,
 "nbformat_minor": 2
}
