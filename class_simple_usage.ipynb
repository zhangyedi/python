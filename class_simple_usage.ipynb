{
 "cells": [
  {
   "cell_type": "markdown",
   "metadata": {},
   "source": [
    "### When the class argument is 'type', we check if the object is a class object. Because each class define a specific type."
   ]
  },
  {
   "cell_type": "code",
   "execution_count": 1,
   "metadata": {},
   "outputs": [
    {
     "name": "stdout",
     "output_type": "stream",
     "text": [
      "True\n"
     ]
    }
   ],
   "source": [
    "print(isinstance(float,type))"
   ]
  },
  {
   "cell_type": "markdown",
   "metadata": {},
   "source": [
    "### Add instance varibale is specific to the instance of class(instance object)."
   ]
  },
  {
   "cell_type": "code",
   "execution_count": 2,
   "metadata": {},
   "outputs": [
    {
     "name": "stdout",
     "output_type": "stream",
     "text": [
      "a1\n"
     ]
    },
    {
     "ename": "AttributeError",
     "evalue": "'A' object has no attribute 'name'",
     "output_type": "error",
     "traceback": [
      "\u001b[1;31m---------------------------------------------------------------------------\u001b[0m",
      "\u001b[1;31mAttributeError\u001b[0m                            Traceback (most recent call last)",
      "\u001b[1;32m<ipython-input-2-9ba87ac23d48>\u001b[0m in \u001b[0;36m<module>\u001b[1;34m()\u001b[0m\n\u001b[0;32m      7\u001b[0m \u001b[0ma1\u001b[0m\u001b[1;33m.\u001b[0m\u001b[0mname\u001b[0m\u001b[1;33m=\u001b[0m\u001b[1;34m'a1'\u001b[0m\u001b[1;33m\u001b[0m\u001b[0m\n\u001b[0;32m      8\u001b[0m \u001b[0mprint\u001b[0m\u001b[1;33m(\u001b[0m\u001b[0ma1\u001b[0m\u001b[1;33m.\u001b[0m\u001b[0mname\u001b[0m\u001b[1;33m)\u001b[0m\u001b[1;33m\u001b[0m\u001b[0m\n\u001b[1;32m----> 9\u001b[1;33m \u001b[0mprint\u001b[0m\u001b[1;33m(\u001b[0m\u001b[0ma2\u001b[0m\u001b[1;33m.\u001b[0m\u001b[0mname\u001b[0m\u001b[1;33m)\u001b[0m\u001b[1;33m\u001b[0m\u001b[0m\n\u001b[0m",
      "\u001b[1;31mAttributeError\u001b[0m: 'A' object has no attribute 'name'"
     ]
    }
   ],
   "source": [
    "class A:\n",
    "    def __init__(self,v=0):\n",
    "        self.value=v\n",
    "\n",
    "a1=A(1)\n",
    "a2=A(2)\n",
    "a1.name='a1'\n",
    "print(a1.name)\n",
    "print(a2.name)"
   ]
  },
  {
   "cell_type": "code",
   "execution_count": 3,
   "metadata": {},
   "outputs": [
    {
     "name": "stdout",
     "output_type": "stream",
     "text": [
      "classVariable\n",
      "classVariable\n",
      "1\n",
      "test\n",
      "classVariable\n",
      "<bound method B.GetClassValue of <class '__main__.B'>>\n"
     ]
    }
   ],
   "source": [
    "class B:\n",
    "    classValue='classVariable' # define classVarible\n",
    "    def __init__(self,v=0): # the first parameter is 'self', actually it can be substituted with any varibale name\n",
    "        self.value=v # define instance varibale\n",
    "    @classmethod # class mthod: @classmethod is a Decorator claiming that the function defined following this is a class method \n",
    "    def GetClassValue(clf): # the class method can only deal with class variable\n",
    "        print('test')\n",
    "        return clf.classValue\n",
    "\n",
    "a=B(1)\n",
    "print(a.classValue)\n",
    "print(B.classValue)\n",
    "print(a.value)\n",
    "# print(B.value) # AttributeError: type object 'B' has no attribute 'value' --> instance attribute can only exist only with an istance\n",
    "print(B.GetClassValue())\n",
    "print(B.GetClassValue)"
   ]
  },
  {
   "cell_type": "code",
   "execution_count": 4,
   "metadata": {},
   "outputs": [
    {
     "name": "stdout",
     "output_type": "stream",
     "text": [
      "Red\n",
      "<bound method Car1.GetColor of <__main__.Car1 object at 0x00000143633D17F0>>\n",
      "Red\n",
      "<function Car1.GetColor at 0x00000143633C7950>\n",
      "Red\n"
     ]
    }
   ],
   "source": [
    "class Car1:\n",
    "    def __init__(self,c='None'):\n",
    "        self.color=c # self is an instance object\n",
    "    def GetColor(self):\n",
    "        return self.color\n",
    "\n",
    "car=Car1(\"Red\")\n",
    "print(car.color)\n",
    "print(car.GetColor)\n",
    "print(car.GetColor())\n",
    "print(Car1.GetColor)\n",
    "# print(Car1.GetColor()) #  GetColor() missing 1 required positional argument: 'self'\n",
    "print(Car1.GetColor(car))"
   ]
  },
  {
   "cell_type": "code",
   "execution_count": 5,
   "metadata": {},
   "outputs": [
    {
     "name": "stdout",
     "output_type": "stream",
     "text": [
      "blue\n",
      "<bound method Car2.GetColor of <class '__main__.Car2'>>\n",
      "blue\n",
      "blue\n",
      "<bound method Car2.GetColor of <class '__main__.Car2'>>\n",
      "blue\n"
     ]
    },
    {
     "ename": "TypeError",
     "evalue": "GetColor() takes 1 positional argument but 2 were given",
     "output_type": "error",
     "traceback": [
      "\u001b[1;31m---------------------------------------------------------------------------\u001b[0m",
      "\u001b[1;31mTypeError\u001b[0m                                 Traceback (most recent call last)",
      "\u001b[1;32m<ipython-input-5-3a61ee4c80eb>\u001b[0m in \u001b[0;36m<module>\u001b[1;34m()\u001b[0m\n\u001b[0;32m     12\u001b[0m \u001b[0mprint\u001b[0m\u001b[1;33m(\u001b[0m\u001b[0mCar2\u001b[0m\u001b[1;33m.\u001b[0m\u001b[0mGetColor\u001b[0m\u001b[1;33m)\u001b[0m\u001b[1;33m\u001b[0m\u001b[0m\n\u001b[0;32m     13\u001b[0m \u001b[0mprint\u001b[0m\u001b[1;33m(\u001b[0m\u001b[0mCar2\u001b[0m\u001b[1;33m.\u001b[0m\u001b[0mGetColor\u001b[0m\u001b[1;33m(\u001b[0m\u001b[1;33m)\u001b[0m\u001b[1;33m)\u001b[0m\u001b[1;33m\u001b[0m\u001b[0m\n\u001b[1;32m---> 14\u001b[1;33m \u001b[0mprint\u001b[0m\u001b[1;33m(\u001b[0m\u001b[0mCar2\u001b[0m\u001b[1;33m.\u001b[0m\u001b[0mGetColor\u001b[0m\u001b[1;33m(\u001b[0m\u001b[0mcar\u001b[0m\u001b[1;33m)\u001b[0m\u001b[1;33m)\u001b[0m \u001b[1;31m#  GetColor() takes 1 positional argument but 2 were given\u001b[0m\u001b[1;33m\u001b[0m\u001b[0m\n\u001b[0m",
      "\u001b[1;31mTypeError\u001b[0m: GetColor() takes 1 positional argument but 2 were given"
     ]
    }
   ],
   "source": [
    "class Car2:\n",
    "    color='blue'\n",
    "    @classmethod\n",
    "    def GetColor(self):\n",
    "        return self.color\n",
    "\n",
    "car=Car2()\n",
    "print(car.color)\n",
    "print(car.GetColor)\n",
    "print(car.GetColor())\n",
    "print(Car2.color)\n",
    "print(Car2.GetColor)\n",
    "print(Car2.GetColor()) \n",
    "print(Car2.GetColor(car)) #  GetColor() takes 1 positional argument but 2 were given"
   ]
  },
  {
   "cell_type": "markdown",
   "metadata": {},
   "source": [
    "### Class: Private and Public Attributes"
   ]
  },
  {
   "cell_type": "code",
   "execution_count": 6,
   "metadata": {},
   "outputs": [
    {
     "name": "stdout",
     "output_type": "stream",
     "text": [
      "Red\n",
      "<bound method Car3.__GetColor of <__main__.Car3 object at 0x00000143633D1198>>\n",
      "Red\n"
     ]
    }
   ],
   "source": [
    "class Car3:\n",
    "    def __init__(self,c):\n",
    "        self.__color=c\n",
    "    def __GetColor(self):\n",
    "        return self.__color\n",
    "    \n",
    "car=Car3(\"Red\")\n",
    "# print(car.__color) #  'Car3' object has no attribute '__color'\n",
    "# print(car.__GetColor) # 'Car3' object has no attribute '__GetColor'\n",
    "# print(Car3.__color) # type object 'Car3' has no attribute '__color'\n",
    "# print(Car3.__GetColor) # type object 'Car3' has no attribute '__GetColor'\n",
    "print(car._Car3__color)\n",
    "print(car._Car3__GetColor)\n",
    "print(car._Car3__GetColor())"
   ]
  },
  {
   "cell_type": "markdown",
   "metadata": {},
   "source": [
    "### Some special function in a class"
   ]
  },
  {
   "cell_type": "code",
   "execution_count": 7,
   "metadata": {},
   "outputs": [
    {
     "name": "stdout",
     "output_type": "stream",
     "text": [
      "Balance of  1 is: 10\n",
      "Balance of  2 is: 20\n",
      "Balance of  3 is: 30\n",
      "Number of accounts is: 3\n",
      "Number of accounts is: 2\n",
      "Number of accounts is: 1\n",
      "Number of accounts is: 0\n"
     ]
    }
   ],
   "source": [
    "class Account:\n",
    "    NumofAccounts=0\n",
    "    def __init__(self,idNum,v = 0):\n",
    "        assert v>=0\n",
    "        self.idNum = idNum\n",
    "        self.balance = v\n",
    "        Account.NumofAccounts +=1\n",
    "    def Deposit(self,v):\n",
    "        assert v>0\n",
    "        self.balance+= v\n",
    "    def Withdraw(self,v):\n",
    "        assert 0<v<=self.balance\n",
    "        self.balance-=v\n",
    "    def __del__(self):\n",
    "        assert Account.NumofAccounts>=1\n",
    "        Account.NumofAccounts-=1\n",
    "    def GetBalance(self):\n",
    "        print(\"Balance of \",\n",
    "        self.idNum, \"is:\",self.balance)\n",
    "\n",
    "    @classmethod\n",
    "    def GetNumofAccounts(cls):\n",
    "        print(\"Number of accounts is:\",cls.NumofAccounts)\n",
    "        \n",
    "a = Account(1,10)\n",
    "b = Account(2,20)\n",
    "c = Account(3,30)\n",
    "a.GetBalance()\n",
    "b.GetBalance()\n",
    "c.GetBalance()\n",
    "Account.GetNumofAccounts()\n",
    "a = None\n",
    "Account.GetNumofAccounts()\n",
    "b = None\n",
    "Account.GetNumofAccounts()\n",
    "c=None\n",
    "Account.GetNumofAccounts()"
   ]
  },
  {
   "cell_type": "code",
   "execution_count": 8,
   "metadata": {
    "collapsed": true
   },
   "outputs": [],
   "source": [
    "# import math\n",
    "# dir(math) # list all the names in 'math' module\n",
    "# help(math) # show how to use the names in 'math' \n",
    "# from ModuleName import n_1,n_2,... # import only needed names n_1,n_2,...from ModuleName"
   ]
  },
  {
   "cell_type": "code",
   "execution_count": 9,
   "metadata": {},
   "outputs": [
    {
     "data": {
      "text/plain": [
       "('_ast',\n",
       " '_bisect',\n",
       " '_blake2',\n",
       " '_codecs',\n",
       " '_codecs_cn',\n",
       " '_codecs_hk',\n",
       " '_codecs_iso2022',\n",
       " '_codecs_jp',\n",
       " '_codecs_kr',\n",
       " '_codecs_tw',\n",
       " '_collections',\n",
       " '_csv',\n",
       " '_datetime',\n",
       " '_findvs',\n",
       " '_functools',\n",
       " '_heapq',\n",
       " '_imp',\n",
       " '_io',\n",
       " '_json',\n",
       " '_locale',\n",
       " '_lsprof',\n",
       " '_md5',\n",
       " '_multibytecodec',\n",
       " '_opcode',\n",
       " '_operator',\n",
       " '_pickle',\n",
       " '_random',\n",
       " '_sha1',\n",
       " '_sha256',\n",
       " '_sha3',\n",
       " '_sha512',\n",
       " '_signal',\n",
       " '_sre',\n",
       " '_stat',\n",
       " '_string',\n",
       " '_struct',\n",
       " '_symtable',\n",
       " '_thread',\n",
       " '_tracemalloc',\n",
       " '_warnings',\n",
       " '_weakref',\n",
       " '_winapi',\n",
       " 'array',\n",
       " 'atexit',\n",
       " 'audioop',\n",
       " 'binascii',\n",
       " 'builtins',\n",
       " 'cmath',\n",
       " 'errno',\n",
       " 'faulthandler',\n",
       " 'gc',\n",
       " 'itertools',\n",
       " 'marshal',\n",
       " 'math',\n",
       " 'mmap',\n",
       " 'msvcrt',\n",
       " 'nt',\n",
       " 'parser',\n",
       " 'sys',\n",
       " 'time',\n",
       " 'winreg',\n",
       " 'xxsubtype',\n",
       " 'zipimport',\n",
       " 'zlib')"
      ]
     },
     "execution_count": 9,
     "metadata": {},
     "output_type": "execute_result"
    }
   ],
   "source": [
    "import sys\n",
    "# dir(sys)\n",
    "sys.builtin_module_names # all compiled-in module names via the sys module"
   ]
  },
  {
   "cell_type": "markdown",
   "metadata": {},
   "source": [
    "A package consists of several modules: https://pypi.org\n",
    "\n",
    "(The Python Package Index (PyPI) is a repository of software for the Python programming language)"
   ]
  }
 ],
 "metadata": {
  "kernelspec": {
   "display_name": "Python 3",
   "language": "python",
   "name": "python3"
  },
  "language_info": {
   "codemirror_mode": {
    "name": "ipython",
    "version": 3
   },
   "file_extension": ".py",
   "mimetype": "text/x-python",
   "name": "python",
   "nbconvert_exporter": "python",
   "pygments_lexer": "ipython3",
   "version": "3.6.3"
  }
 },
 "nbformat": 4,
 "nbformat_minor": 2
}
