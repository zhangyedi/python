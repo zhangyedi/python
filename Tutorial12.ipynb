{
 "cells": [
  {
   "cell_type": "markdown",
   "metadata": {},
   "source": [
    "# Task 1. Climb the stairs\n",
    "\n",
    "There are n stairs and suppose you are at the 0 stair. You can climb at most 3 stairs (i.e., 1 or 2 or 3 stairs) at each step, the problem is to compute the number of possible solutions to reach the nth stair.\n",
    "1. Implement a recursive function to solve this problem\n",
    "- Implement a non-recursive function to solve this problem\n",
    "- Compare the performance of these two alternative implementations (Hint: use time module to compare execution time for different values of n)"
   ]
  },
  {
   "cell_type": "markdown",
   "metadata": {},
   "source": [
    "### F(n)=F(n-1)+F(n-2)+F(n-3)"
   ]
  },
  {
   "cell_type": "code",
   "execution_count": 1,
   "metadata": {},
   "outputs": [
    {
     "name": "stdout",
     "output_type": "stream",
     "text": [
      "No.: 4700770 Time:  0.6586823463439941 seconds\n",
      "No.: 4700770 Time:  0.0 seconds\n"
     ]
    }
   ],
   "source": [
    "def fib3(n):\n",
    "    if n<3:\n",
    "        return n\n",
    "    if n==3:\n",
    "        return 4\n",
    "    return fib3(n-1)+fib3(n-2)+fib3(n-3)\n",
    "\n",
    "\n",
    "def climbStairs_NonRecursive(n):\n",
    "    '''Non-recurisve function to compute the number of solutions'''\n",
    "    a = 1\n",
    "    b = 2\n",
    "    c = 4\n",
    "    for i in range(n-3):\n",
    "        c, b, a = a+b+c, c, b\n",
    "    return c\n",
    "\n",
    "\n",
    "import time\n",
    "\n",
    "start = time.time()\n",
    "print(\"No.:\", fib3(26),\"Time: \", time.time()-start,\"seconds\")\n",
    "start = time.time()\n",
    "print(\"No.:\", climbStairs_NonRecursive(26),\"Time: \", time.time()-start,\"seconds\")"
   ]
  },
  {
   "cell_type": "markdown",
   "metadata": {},
   "source": [
    "# Task 2. Monty Hall problem"
   ]
  },
  {
   "cell_type": "markdown",
   "metadata": {},
   "source": [
    "参赛者会看见三扇关闭了的门，其中一扇的后面有一辆汽车或者是奖品，选中后面有车的那扇门就可以赢得该汽车或奖品，而另外两扇门后面则各藏有一只山羊。当参赛者选定了一扇门，但未去开启它的时候，知道门后情形的节目主持人会开启剩下两扇门的其中一扇，露出其中一只山羊。主持人其后会问参赛者要不要换另一扇仍然关上的门。问题是：换另一扇门会否增加参赛者赢得汽车的机会率？"
   ]
  },
  {
   "cell_type": "markdown",
   "metadata": {},
   "source": [
    "**—换门的话，赢得汽车的机率是2/3。**"
   ]
  },
  {
   "cell_type": "markdown",
   "metadata": {},
   "source": [
    "fewq"
   ]
  },
  {
   "cell_type": "markdown",
   "metadata": {},
   "source": [
    "Implement a program to mimic the game. Hints:\n",
    "1. Use dict to model the doors 1,2,3 and things behind the doors\n",
    "- Randomly add car behind one door, while goats are behind other doors using random module \n",
    "- Use try statement to handle exceptions for invalid inputs so that the game can continue"
   ]
  },
  {
   "cell_type": "code",
   "execution_count": 2,
   "metadata": {},
   "outputs": [
    {
     "name": "stdout",
     "output_type": "stream",
     "text": [
      "==============================\n",
      "Choose a door to open:2\n",
      "\"goat\" behind the door 1\n",
      "Switch to 0?(y/n)y\n",
      "You Win.\n",
      "Do you want to try once more?(y/n)n\n"
     ]
    }
   ],
   "source": [
    "from random import randrange\n",
    "\n",
    "def init():\n",
    "    '''create a dict to model three doors and things behind the doors'''\n",
    "    result = {i: 'goat' for i in range(3)}\n",
    "    r = randrange(3)\n",
    "    result[r] = 'car'\n",
    "    return result\n",
    "\n",
    "def startGame():\n",
    "    '''Start the game'''\n",
    "    doors = init()\n",
    "\n",
    "    while True:  # get the first guessed door number\n",
    "        try:\n",
    "            doorNum = int(input('Choose a door to open:'))\n",
    "            assert 0 <= doorNum <= 2\n",
    "            break\n",
    "        except:\n",
    "            print('Door number must be between {} and {}'.format(0, 2))\n",
    "\n",
    "    for door in doors.keys() - {doorNum}:  # host check things behind other doors, and open one door if it is not the door of car\n",
    "        if doors[door] == 'goat':\n",
    "            print('\"goat\" behind the door', door)\n",
    "            thirdDoor = (doors.keys() - {door, doorNum}).pop()\n",
    "            while True:\n",
    "                try:\n",
    "                    change = input('Switch to {}?(y/n)'.format(thirdDoor))\n",
    "                    assert change in {'y', 'n'}\n",
    "                    break\n",
    "                except:\n",
    "                    change = input('Switch to {}?(y/n)'.format(thirdDoor))\n",
    "            finalDoorNum = thirdDoor if change == 'y' else doorNum\n",
    "            if doors[finalDoorNum] == 'goat':\n",
    "                return 'I Win!'\n",
    "            else:\n",
    "                return 'You Win.'\n",
    "\n",
    "while True:\n",
    "    print('=' * 30)\n",
    "    print(startGame())\n",
    "    r = input('Do you want to try once more?(y/n)')\n",
    "    if r == 'n':\n",
    "        break"
   ]
  },
  {
   "cell_type": "markdown",
   "metadata": {},
   "source": [
    "Review usage of dict:\n",
    "- xxx.keys(): return all the keys\n",
    "- xxx.values(): return all the values \n",
    "- xxx.items(): return all the pairs"
   ]
  },
  {
   "cell_type": "markdown",
   "metadata": {},
   "source": [
    "**keys(),values(),items()方法返回一个可迭代对象(iterable)**"
   ]
  },
  {
   "cell_type": "code",
   "execution_count": 3,
   "metadata": {},
   "outputs": [
    {
     "name": "stdout",
     "output_type": "stream",
     "text": [
      "(1, 'a')\n",
      "(2, 'b')\n",
      "(3, 'c')\n",
      "(4, 'd')\n",
      "1\n",
      "2\n",
      "3\n",
      "4\n",
      "a\n",
      "b\n",
      "c\n",
      "d\n"
     ]
    }
   ],
   "source": [
    "myDict={1:'a',2:'b',3:'c',4:'d'}\n",
    "# myDict={1:'a'}\n",
    "for item in myDict.items():\n",
    "    print(item)\n",
    "    \n",
    "for keys in myDict.keys():\n",
    "    print(keys)\n",
    "    \n",
    "for values in myDict.values():\n",
    "    print(values)"
   ]
  },
  {
   "cell_type": "code",
   "execution_count": 4,
   "metadata": {},
   "outputs": [
    {
     "data": {
      "text/plain": [
       "{2, 3, 4}"
      ]
     },
     "execution_count": 4,
     "metadata": {},
     "output_type": "execute_result"
    }
   ],
   "source": [
    "b=myDict.keys()-[1]\n",
    "b"
   ]
  },
  {
   "cell_type": "code",
   "execution_count": 5,
   "metadata": {},
   "outputs": [
    {
     "data": {
      "text/plain": [
       "{1: 'a', 2: 'b', 3: 'c', 4: 'd'}"
      ]
     },
     "execution_count": 5,
     "metadata": {},
     "output_type": "execute_result"
    }
   ],
   "source": [
    "myDict"
   ]
  },
  {
   "cell_type": "code",
   "execution_count": 6,
   "metadata": {},
   "outputs": [
    {
     "name": "stdout",
     "output_type": "stream",
     "text": [
      "<class 'dict_keys'>            dict_keys([1, 2, 3, 4])\n",
      "<class 'list'>                [dict_keys([1, 2, 3, 4])]\n",
      "<class 'tuple'>               (dict_keys([1, 2, 3, 4]),)\n"
     ]
    }
   ],
   "source": [
    "a=myDict.keys()\n",
    "\n",
    "a1=[a]\n",
    "a2=(a,)\n",
    "\n",
    "print(type(a),' '*10,  a)\n",
    "print(type(a1),' '*14, a1)\n",
    "print(type(a2),' '*13, a2)\n"
   ]
  },
  {
   "cell_type": "markdown",
   "metadata": {},
   "source": [
    "#### In Python 3 dict.keys(), dict.values() and dict.items() will all return iterable views instead of lists."
   ]
  },
  {
   "cell_type": "code",
   "execution_count": 7,
   "metadata": {},
   "outputs": [
    {
     "name": "stdout",
     "output_type": "stream",
     "text": [
      "<class 'list'>            [1, 2, 3, 4]\n",
      "<class 'tuple'>            (1, 2, 3, 4)\n"
     ]
    }
   ],
   "source": [
    "a=myDict.keys()\n",
    "\n",
    "a3=list(a)\n",
    "a4=tuple(a)\n",
    "\n",
    "print(type(a3),' '*10, a3)\n",
    "print(type(a4),' '*10, a4)"
   ]
  },
  {
   "cell_type": "markdown",
   "metadata": {},
   "source": [
    "# Task 3. n-D vector"
   ]
  },
  {
   "cell_type": "markdown",
   "metadata": {},
   "source": [
    "Implement a n-dimension vector (for any n>=1) class\n",
    "The class should supports:\n",
    "1. Add (+) and Sub (-) between vectors (with same dimensions)\n",
    "- Multi(\\*) and Div(/) between a vector and a scalar\n",
    "- Length of vector which is Euclidean norm of the vector (using attribute, i.e., @property decorate)\n",
    "- Pretty print of the vector"
   ]
  },
  {
   "cell_type": "code",
   "execution_count": 8,
   "metadata": {},
   "outputs": [
    {
     "name": "stdout",
     "output_type": "stream",
     "text": [
      "Vector({3},{4},{5})\n",
      "Vector({8},{10},{12})\n",
      "Vector({-2},{-2},{-2})\n",
      "Vector({9},{12},{15})\n",
      "Vector({1.5},{2.0},{2.5})\n",
      "7.0710678118654755\n"
     ]
    }
   ],
   "source": [
    "from math import sqrt\n",
    "\n",
    "\n",
    "class Vector:\n",
    "    def __init__(self, *p):\n",
    "        self._data = list(p) # list can unfrozen tuple\n",
    "\n",
    "    def __add__(self, other):\n",
    "        v = (x + y for x, y in zip(self._data, other._data))\n",
    "        return Vector(*v)\n",
    "\n",
    "    def __sub__(self, other):\n",
    "        v = (x - y for x, y in zip(self._data, other._data))\n",
    "        return Vector(*v)\n",
    "\n",
    "    def __mul__(self, n):\n",
    "        v = (x * n for x in self._data)\n",
    "        return Vector(*v)\n",
    "\n",
    "    def __truediv__(self, n):\n",
    "        assert n != 0\n",
    "        v = (x / n for x in self._data)\n",
    "        return Vector(*v)\n",
    "\n",
    "    @property\n",
    "    def length(self):\n",
    "        return sqrt(sum(x ** 2 for x in self._data))\n",
    "\n",
    "    def __str__(self):\n",
    "        s = \"Vector(\"\n",
    "        num = len(self._data)\n",
    "        if num == 0:\n",
    "            return s + \")\"\n",
    "        s = s + \"{\" + str(self._data[0]) + \"}\"\n",
    "        for i in range(1, num):\n",
    "            s = s + \",{\" + str(self._data[i]) + \"}\"\n",
    "        s = s + \")\"\n",
    "        return s\n",
    "\n",
    "v1 = Vector(3, 4, 5)\n",
    "v2 = Vector(5, 6, 7)\n",
    "print(v1)\n",
    "print(v1 + v2)\n",
    "print(v1 - v2)\n",
    "print(v1 * 3)\n",
    "print(v1 / 2)\n",
    "print(v1.length)"
   ]
  },
  {
   "cell_type": "markdown",
   "metadata": {},
   "source": [
    "<img src=\"figures/function_arguments.JPG\" width=50%>"
   ]
  },
  {
   "cell_type": "code",
   "execution_count": 9,
   "metadata": {},
   "outputs": [
    {
     "name": "stdout",
     "output_type": "stream",
     "text": [
      "(1, 2, 3)\n"
     ]
    }
   ],
   "source": [
    "def demo1(*p):\n",
    "    print(p)\n",
    "\n",
    "demo1(1,2,3)"
   ]
  },
  {
   "cell_type": "code",
   "execution_count": 10,
   "metadata": {},
   "outputs": [
    {
     "name": "stdout",
     "output_type": "stream",
     "text": [
      "(1, 2, 3) 4\n"
     ]
    }
   ],
   "source": [
    "def demo2(*p,v):\n",
    "    print(p,v)\n",
    "    \n",
    "demo2(1,2,3,v=4)"
   ]
  },
  {
   "cell_type": "markdown",
   "metadata": {},
   "source": [
    "<img src=\"figures/function_arguments2.JPG\" width=50%>"
   ]
  },
  {
   "cell_type": "code",
   "execution_count": 11,
   "metadata": {},
   "outputs": [
    {
     "name": "stdout",
     "output_type": "stream",
     "text": [
      "{'x': 1, 'y': 2, 'z': 3}\n"
     ]
    }
   ],
   "source": [
    "def demo3(**p):\n",
    "    print(p)\n",
    "    \n",
    "demo3(x=1,y=2,z=3)"
   ]
  },
  {
   "cell_type": "code",
   "execution_count": 12,
   "metadata": {},
   "outputs": [
    {
     "ename": "SyntaxError",
     "evalue": "invalid syntax (<ipython-input-12-228ed3a940fd>, line 1)",
     "output_type": "error",
     "traceback": [
      "\u001b[1;36m  File \u001b[1;32m\"<ipython-input-12-228ed3a940fd>\"\u001b[1;36m, line \u001b[1;32m1\u001b[0m\n\u001b[1;33m    def demo4(**p,v):\u001b[0m\n\u001b[1;37m                  ^\u001b[0m\n\u001b[1;31mSyntaxError\u001b[0m\u001b[1;31m:\u001b[0m invalid syntax\n"
     ]
    }
   ],
   "source": [
    "def demo4(**p,v):\n",
    "    print(p,v)"
   ]
  },
  {
   "cell_type": "code",
   "execution_count": 13,
   "metadata": {},
   "outputs": [
    {
     "ename": "SyntaxError",
     "evalue": "invalid syntax (<ipython-input-13-d905a126fe43>, line 1)",
     "output_type": "error",
     "traceback": [
      "\u001b[1;36m  File \u001b[1;32m\"<ipython-input-13-d905a126fe43>\"\u001b[1;36m, line \u001b[1;32m1\u001b[0m\n\u001b[1;33m    def demo4(**p,v=1):\u001b[0m\n\u001b[1;37m                  ^\u001b[0m\n\u001b[1;31mSyntaxError\u001b[0m\u001b[1;31m:\u001b[0m invalid syntax\n"
     ]
    }
   ],
   "source": [
    "def demo4(**p,v=1):\n",
    "    print(p,v)"
   ]
  }
 ],
 "metadata": {
  "kernelspec": {
   "display_name": "Python 3",
   "language": "python",
   "name": "python3"
  },
  "language_info": {
   "codemirror_mode": {
    "name": "ipython",
    "version": 3
   },
   "file_extension": ".py",
   "mimetype": "text/x-python",
   "name": "python",
   "nbconvert_exporter": "python",
   "pygments_lexer": "ipython3",
   "version": "3.6.3"
  }
 },
 "nbformat": 4,
 "nbformat_minor": 2
}
