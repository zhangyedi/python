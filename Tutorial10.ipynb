{
 "cells": [
  {
   "cell_type": "markdown",
   "metadata": {},
   "source": [
    "# Problem 1"
   ]
  },
  {
   "cell_type": "code",
   "execution_count": 7,
   "metadata": {},
   "outputs": [
    {
     "name": "stdout",
     "output_type": "stream",
     "text": [
      "55\n"
     ]
    }
   ],
   "source": [
    "def SumAll(n):\n",
    "    ''' A function to compute 1+2+...+n for positive integer n\n",
    "    '''\n",
    "    assert isinstance(n,int) and n>=1, \"The input should be a positive integer\"\n",
    "    s = 0\n",
    "    for i in range(1,n+1):\n",
    "        s = s + i\n",
    "    return s\n",
    "\n",
    "print(SumAll(10))\n",
    "# print(SumAll(0))\n",
    "# print(SumAll(\"abc\"))"
   ]
  },
  {
   "cell_type": "code",
   "execution_count": 9,
   "metadata": {},
   "outputs": [
    {
     "name": "stdout",
     "output_type": "stream",
     "text": [
      "fdafeawefewaewaf\n"
     ]
    }
   ],
   "source": [
    "s='fdafeawe\\\n",
    "fewaewaf'\n",
    "print(s)"
   ]
  },
  {
   "cell_type": "markdown",
   "metadata": {},
   "source": [
    "# Problem 2"
   ]
  },
  {
   "cell_type": "code",
   "execution_count": 2,
   "metadata": {},
   "outputs": [
    {
     "name": "stdout",
     "output_type": "stream",
     "text": [
      "126410606437752\n"
     ]
    }
   ],
   "source": [
    "def BadCombination(n,i): # O(2n)\n",
    "    assert isinstance(n,int) and \\\n",
    "           isinstance(i,int) and \\\n",
    "           n>=i>=1, \\\n",
    "           \"n and i must be positive integers and n must be larger than or equal to i.\"\n",
    "    result1,result2,result3 = 1,1,1\n",
    "    for j in range(1,n+1): \n",
    "        result1 *= j\n",
    "\n",
    "    result2 = 1\n",
    "    for j in range(1,i+1): \n",
    "        result2 *= j\n",
    "        \n",
    "    for j in range(1,n-i+1): \n",
    "        result3 *= j  \n",
    "    return int(result1/(result2*result3))\n",
    "\n",
    "def RecursiveCombination(n, i): # O(n^min{k,n-k})\n",
    "    assert isinstance(n,int) and \\\n",
    "           isinstance(i,int) and \\\n",
    "           n>=i>=1, \\\n",
    "           \"n and i must be positive integers and n must be larger than or equal to i.\"\n",
    "    if n==i:\n",
    "        return 1\n",
    "    if i>1:\n",
    "        return RecursiveCombination(n-1, i) + RecursiveCombination(n-1, i-1)\n",
    "    else:\n",
    "        return RecursiveCombination(n-1, i) + 1\n",
    "\n",
    "\n",
    "def Combination(n,i): # O(n)\n",
    "    assert isinstance(n,int) and \\\n",
    "           isinstance(i,int) and \\\n",
    "           n>=i>=1, \\\n",
    "           \"n and i must be positive integers and n must be larger than or equal to i.\"\n",
    "    result = 1\n",
    "    if i>=n-i:\n",
    "        Min, Max = n-i,i\n",
    "    else:\n",
    "        Min, Max = i,n-i\n",
    "\n",
    "    for j in range(n,0,-1): \n",
    "        if j>Max:\n",
    "            result *= j\n",
    "        elif j<=Min:\n",
    "            result /= j\n",
    "    return int(result)\n",
    "\n",
    "def OptimalCombination(n,i): # O(min(i,n-i))\n",
    "    assert isinstance(n,int) and \\\n",
    "           isinstance(i,int) and \\\n",
    "           n>=i>=1, \\\n",
    "           \"n and i must be positive integers and n must be larger than or equal to i.\"\n",
    " \n",
    "    minNI = min(i, n-i)\n",
    "    result = 1\n",
    "    for j in range(0, minNI):\n",
    "        result = result * (n-j) // (j+1)\n",
    "    return result\n",
    "\n",
    "\n",
    "# print(BadCombination(3, 2))\n",
    "# print(BadCombination(1000, 25)) \n",
    "# print(OptimalCombination(3, 2))\n",
    "print(OptimalCombination(50, 25))\n",
    "# print(RecursiveCombination(3, 2))\n",
    "# print(RecursiveCombination(50, 25))\n",
    "# print(Combination(3, 2))\n",
    "# print(Combination(1000, 25))\n",
    "# print(Combination(3, 0))"
   ]
  },
  {
   "cell_type": "markdown",
   "metadata": {},
   "source": [
    "# Problem 3"
   ]
  },
  {
   "cell_type": "code",
   "execution_count": 3,
   "metadata": {},
   "outputs": [
    {
     "name": "stdout",
     "output_type": "stream",
     "text": [
      "55\n"
     ]
    }
   ],
   "source": [
    "def GetFib(n):\n",
    "    assert isinstance(n,int), \"n cannot be a negative integer.\"\n",
    "    a, b = 1, 1\n",
    "    while b<n:\n",
    "        a, b = b, a+b\n",
    "    else:\n",
    "        return b\n",
    "    \n",
    "print(GetFib(50))\n",
    "# print(GetFib(500))\n"
   ]
  },
  {
   "cell_type": "markdown",
   "metadata": {},
   "source": [
    "# Problem 4"
   ]
  },
  {
   "cell_type": "code",
   "execution_count": 4,
   "metadata": {},
   "outputs": [
    {
     "name": "stdout",
     "output_type": "stream",
     "text": [
      "Start to GUESS:3\n",
      "Too smaller\n",
      "Guess again:5\n",
      "Too larger\n",
      "Guess again:4\n",
      "Congratulations!\n"
     ]
    }
   ],
   "source": [
    "from random import randint\n",
    "\n",
    "def GuessNumGame(maxValue, maxTimes):    \n",
    "    value = randint(1,maxValue)                \n",
    "    for i in range(maxTimes):\n",
    "        prompt = 'Start to GUESS:' if i==0 else 'Guess again:'\n",
    "        x = int(input(prompt))\n",
    "        if x == value:                     \n",
    "            print('Congratulations!')\n",
    "            break\n",
    "        elif x > value:\n",
    "            print('Too larger')\n",
    "        else:\n",
    "            print('Too smaller')\n",
    "    else:                                      \n",
    "        print('Game over. FAIL.')\n",
    "        print('The value is ', value)\n",
    "\n",
    "\n",
    "GuessNumGame(6,3)\n",
    "# GuessNumGame(10,3)"
   ]
  }
 ],
 "metadata": {
  "kernelspec": {
   "display_name": "Python 3",
   "language": "python",
   "name": "python3"
  },
  "language_info": {
   "codemirror_mode": {
    "name": "ipython",
    "version": 3
   },
   "file_extension": ".py",
   "mimetype": "text/x-python",
   "name": "python",
   "nbconvert_exporter": "python",
   "pygments_lexer": "ipython3",
   "version": "3.6.3"
  }
 },
 "nbformat": 4,
 "nbformat_minor": 2
}
