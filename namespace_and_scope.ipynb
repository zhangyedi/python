{
 "cells": [
  {
   "cell_type": "markdown",
   "metadata": {},
   "source": [
    "# 1. What is Name in Python?\n",
    "Name(identifier) is simply a name given to objects. Everything in Python is an **object**. Name is a way to access the underlying object, and a name could reger to any type of object. Actually, functions are objects too."
   ]
  },
  {
   "cell_type": "code",
   "execution_count": 1,
   "metadata": {},
   "outputs": [
    {
     "name": "stdout",
     "output_type": "stream",
     "text": [
      "C:\\Users\\dell\\Desktop\\jupter_CS100\n"
     ]
    }
   ],
   "source": [
    "import os\n",
    "print(os.getcwd())"
   ]
  },
  {
   "cell_type": "code",
   "execution_count": 2,
   "metadata": {},
   "outputs": [
    {
     "name": "stdout",
     "output_type": "stream",
     "text": [
      "id(2)= 2005098688\n"
     ]
    }
   ],
   "source": [
    "t=2\n",
    "print('id(2)=',id(t))\n",
    "t='test_string'\n",
    "\n",
    "def printHello(): # 没有输入参数依然需要\"()\"\n",
    "    print(\"hello\")"
   ]
  },
  {
   "cell_type": "markdown",
   "metadata": {},
   "source": [
    "# 2. What is Namespce in Python?\n",
    "Namespace is a mapping from each name to its corresponding objects.This concept exits in ** Module, Class, def.** Different namespaces can c0-exist at a given time but are completely isolated. \n",
    "\n",
    "1. The namespace containing all the built-in names is created when we start the Python interpreter and exits as long we don't exit. (So this is the reasoning that built-in functions like id(), print() are always available to use from any part of the program.) Each module creates its own gloabl namespace.\n",
    "\n",
    "2. The global namespace for a module is created when the module definition is read in; Normally, such global namespace also lasts until the interpreter quits.\n",
    "\n",
    "3. The local namespace for a function is createtd when the funciton is called, and deleted when the function returns or raises an exception that is not handled within the function. \n",
    "\n",
    "Different namespaces are isolated.Hence, the same name that may exist in different modules don't collide."
   ]
  },
  {
   "cell_type": "markdown",
   "metadata": {},
   "source": [
    "# 3. What is Scope in Python?\n",
    "Although there are various unique namespaces defined, we may not be able to access all of them from every part of the program. The concept of scope comes into play:\n",
    "\n",
    "** Scope ** is the portion of the program from where a namespace can be accessed directly **without any prefix**.  中文来讲就是：每个scope都规定了在此scope中可以直接access的namespace，scope一定是namespace，但namespace不一定是scope。 \n",
    "\n",
    "Although scopes are determined statically, they are used dynamically. At any time during execution, there are at least **three nested** scopes whose namespaces are directly accessible:\n",
    "- the **innermost scope**, which is searched first, contains the local names\n",
    "- the scopes of any **enclosing functions**, which are searched starting with the nearest enclosing scope, contains non-local, but also non-global names\n",
    "- the next-to-last scope contains the current module’s **global** names\n",
    "- the outermost scope (searched last) is the namespace containing **built-in** names\n",
    "### Rule: L--E--G--B"
   ]
  },
  {
   "cell_type": "code",
   "execution_count": 3,
   "metadata": {},
   "outputs": [
    {
     "name": "stdout",
     "output_type": "stream",
     "text": [
      "global calls:  Global-Scope(G)\n",
      "foo calls:  foo's Local Scope(L)\n",
      "baz calls:  baz's L-Scope(L)\n",
      "bar calls:  foo's Local Scope(L)\n"
     ]
    }
   ],
   "source": [
    "x1=\"Global-Scope(G)\"\n",
    "def foo():\n",
    "    x1=\"foo's Local Scope(L)\"\n",
    "    def bar():\n",
    "        def baz():\n",
    "            x1=\"baz's L-Scope(L)\"\n",
    "            print(\"baz calls: \",x1)\n",
    "        baz()\n",
    "#         baz(x1)\n",
    "#         global x1\n",
    "        print(\"bar calls: \",x1)\n",
    "    print(\"foo calls: \",x1)\n",
    "    bar()\n",
    "    \n",
    "print(\"global calls: \",x1)\n",
    "foo()"
   ]
  },
  {
   "cell_type": "markdown",
   "metadata": {},
   "source": [
    "Python解释器在执行到bar()中的baz(x1)时，发现有个变量x1在当前scope(Local Namespace)中无法找到，但是会继续尝试把整块代码解释完。然而在下一行\"global x1\"中找到了，那么解释器便认为这里的x1属于Local Namespace的，既然对变量b的引用发生在了声明之前，自然会抛出错误。"
   ]
  },
  {
   "cell_type": "markdown",
   "metadata": {},
   "source": [
    "**Nonlocal statement** name x to previously bound variables in the nearest **Enclosing Fucntion**, but **not** Global Scope!"
   ]
  },
  {
   "cell_type": "code",
   "execution_count": 4,
   "metadata": {},
   "outputs": [
    {
     "name": "stdout",
     "output_type": "stream",
     "text": [
      "Enclosing Fucntion - 2\n"
     ]
    }
   ],
   "source": [
    "x2=\"global\"\n",
    "def foo():\n",
    "    x2=\"Enclosing Fucntion - 1\"\n",
    "    def bar():\n",
    "        x2=\"Enclosing Fucntion - 2\"\n",
    "        def baz():\n",
    "            nonlocal x2\n",
    "            print(x2)\n",
    "        baz()\n",
    "    bar()\n",
    "foo()"
   ]
  },
  {
   "cell_type": "markdown",
   "metadata": {},
   "source": [
    "对于python，def/class/lambda表达式均会产生新的namespace,其他如：if/elif/else try/except for/while并不会产生namespace，自然也不存在作用域一说了。所以对于后者来说，即便在它们内部定义的变量，在外部也可以访问。"
   ]
  },
  {
   "cell_type": "markdown",
   "metadata": {},
   "source": [
    "Now look at following usages of class:"
   ]
  },
  {
   "cell_type": "code",
   "execution_count": 5,
   "metadata": {},
   "outputs": [
    {
     "name": "stdout",
     "output_type": "stream",
     "text": [
      "4\n"
     ]
    }
   ],
   "source": [
    "class A(object):\n",
    "    a1=4 # protected class attribute, which cannot be imported using 'from module import *'\n",
    "    print(a1)"
   ]
  },
  {
   "cell_type": "code",
   "execution_count": 6,
   "metadata": {},
   "outputs": [
    {
     "ename": "NameError",
     "evalue": "name 'a2' is not defined",
     "output_type": "error",
     "traceback": [
      "\u001b[1;31m---------------------------------------------------------------------------\u001b[0m",
      "\u001b[1;31mNameError\u001b[0m                                 Traceback (most recent call last)",
      "\u001b[1;32m<ipython-input-6-3f21e4530bdf>\u001b[0m in \u001b[0;36m<module>\u001b[1;34m()\u001b[0m\n\u001b[0;32m      4\u001b[0m         \u001b[0mprint\u001b[0m\u001b[1;33m(\u001b[0m\u001b[0ma2\u001b[0m\u001b[1;33m)\u001b[0m\u001b[1;33m\u001b[0m\u001b[0m\n\u001b[0;32m      5\u001b[0m \u001b[1;33m\u001b[0m\u001b[0m\n\u001b[1;32m----> 6\u001b[1;33m \u001b[0mA\u001b[0m\u001b[1;33m(\u001b[0m\u001b[1;33m)\u001b[0m\u001b[1;33m.\u001b[0m\u001b[0mprintA2\u001b[0m\u001b[1;33m(\u001b[0m\u001b[1;33m)\u001b[0m\u001b[1;33m\u001b[0m\u001b[0m\n\u001b[0m",
      "\u001b[1;32m<ipython-input-6-3f21e4530bdf>\u001b[0m in \u001b[0;36mprintA2\u001b[1;34m(self)\u001b[0m\n\u001b[0;32m      2\u001b[0m     \u001b[0ma2\u001b[0m\u001b[1;33m=\u001b[0m\u001b[1;36m4\u001b[0m\u001b[1;33m\u001b[0m\u001b[0m\n\u001b[0;32m      3\u001b[0m     \u001b[1;32mdef\u001b[0m \u001b[0mprintA2\u001b[0m\u001b[1;33m(\u001b[0m\u001b[0mself\u001b[0m\u001b[1;33m)\u001b[0m\u001b[1;33m:\u001b[0m\u001b[1;33m\u001b[0m\u001b[0m\n\u001b[1;32m----> 4\u001b[1;33m         \u001b[0mprint\u001b[0m\u001b[1;33m(\u001b[0m\u001b[0ma2\u001b[0m\u001b[1;33m)\u001b[0m\u001b[1;33m\u001b[0m\u001b[0m\n\u001b[0m\u001b[0;32m      5\u001b[0m \u001b[1;33m\u001b[0m\u001b[0m\n\u001b[0;32m      6\u001b[0m \u001b[0mA\u001b[0m\u001b[1;33m(\u001b[0m\u001b[1;33m)\u001b[0m\u001b[1;33m.\u001b[0m\u001b[0mprintA2\u001b[0m\u001b[1;33m(\u001b[0m\u001b[1;33m)\u001b[0m\u001b[1;33m\u001b[0m\u001b[0m\n",
      "\u001b[1;31mNameError\u001b[0m: name 'a2' is not defined"
     ]
    }
   ],
   "source": [
    "class A(object):\n",
    "    a2=4\n",
    "    def printA2(self):\n",
    "        print(a2)\n",
    "        \n",
    "A().printA2()"
   ]
  },
  {
   "cell_type": "code",
   "execution_count": 7,
   "metadata": {},
   "outputs": [
    {
     "name": "stdout",
     "output_type": "stream",
     "text": [
      "4\n"
     ]
    }
   ],
   "source": [
    "class A(object):\n",
    "    a3=4\n",
    "    def printA1(self):\n",
    "        print(self.a3)\n",
    "a=A().printA1()"
   ]
  },
  {
   "cell_type": "code",
   "execution_count": 8,
   "metadata": {},
   "outputs": [
    {
     "ename": "NameError",
     "evalue": "name '_a1' is not defined",
     "output_type": "error",
     "traceback": [
      "\u001b[1;31m---------------------------------------------------------------------------\u001b[0m",
      "\u001b[1;31mNameError\u001b[0m                                 Traceback (most recent call last)",
      "\u001b[1;32m<ipython-input-8-7fb131e25e10>\u001b[0m in \u001b[0;36m<module>\u001b[1;34m()\u001b[0m\n\u001b[1;32m----> 1\u001b[1;33m \u001b[1;32mclass\u001b[0m \u001b[0mB\u001b[0m\u001b[1;33m(\u001b[0m\u001b[0mobject\u001b[0m\u001b[1;33m)\u001b[0m\u001b[1;33m:\u001b[0m\u001b[1;33m\u001b[0m\u001b[0m\n\u001b[0m\u001b[0;32m      2\u001b[0m     \u001b[0ma1\u001b[0m\u001b[1;33m=\u001b[0m\u001b[1;36m4\u001b[0m\u001b[1;33m\u001b[0m\u001b[0m\n\u001b[0;32m      3\u001b[0m     \u001b[0mb1\u001b[0m\u001b[1;33m=\u001b[0m\u001b[1;33m[\u001b[0m\u001b[0m_a1\u001b[0m\u001b[1;33m+\u001b[0m\u001b[0mi\u001b[0m \u001b[1;32mfor\u001b[0m \u001b[0mi\u001b[0m \u001b[1;32min\u001b[0m \u001b[0mrange\u001b[0m\u001b[1;33m(\u001b[0m\u001b[1;36m10\u001b[0m\u001b[1;33m)\u001b[0m\u001b[1;33m]\u001b[0m\u001b[1;33m\u001b[0m\u001b[0m\n\u001b[0;32m      4\u001b[0m     \u001b[0mprint\u001b[0m\u001b[1;33m(\u001b[0m\u001b[0m_b1\u001b[0m\u001b[1;33m)\u001b[0m\u001b[1;33m\u001b[0m\u001b[0m\n",
      "\u001b[1;32m<ipython-input-8-7fb131e25e10>\u001b[0m in \u001b[0;36mB\u001b[1;34m()\u001b[0m\n\u001b[0;32m      1\u001b[0m \u001b[1;32mclass\u001b[0m \u001b[0mB\u001b[0m\u001b[1;33m(\u001b[0m\u001b[0mobject\u001b[0m\u001b[1;33m)\u001b[0m\u001b[1;33m:\u001b[0m\u001b[1;33m\u001b[0m\u001b[0m\n\u001b[0;32m      2\u001b[0m     \u001b[0ma1\u001b[0m\u001b[1;33m=\u001b[0m\u001b[1;36m4\u001b[0m\u001b[1;33m\u001b[0m\u001b[0m\n\u001b[1;32m----> 3\u001b[1;33m     \u001b[0mb1\u001b[0m\u001b[1;33m=\u001b[0m\u001b[1;33m[\u001b[0m\u001b[0m_a1\u001b[0m\u001b[1;33m+\u001b[0m\u001b[0mi\u001b[0m \u001b[1;32mfor\u001b[0m \u001b[0mi\u001b[0m \u001b[1;32min\u001b[0m \u001b[0mrange\u001b[0m\u001b[1;33m(\u001b[0m\u001b[1;36m10\u001b[0m\u001b[1;33m)\u001b[0m\u001b[1;33m]\u001b[0m\u001b[1;33m\u001b[0m\u001b[0m\n\u001b[0m\u001b[0;32m      4\u001b[0m     \u001b[0mprint\u001b[0m\u001b[1;33m(\u001b[0m\u001b[0m_b1\u001b[0m\u001b[1;33m)\u001b[0m\u001b[1;33m\u001b[0m\u001b[0m\n",
      "\u001b[1;32m<ipython-input-8-7fb131e25e10>\u001b[0m in \u001b[0;36m<listcomp>\u001b[1;34m(.0)\u001b[0m\n\u001b[0;32m      1\u001b[0m \u001b[1;32mclass\u001b[0m \u001b[0mB\u001b[0m\u001b[1;33m(\u001b[0m\u001b[0mobject\u001b[0m\u001b[1;33m)\u001b[0m\u001b[1;33m:\u001b[0m\u001b[1;33m\u001b[0m\u001b[0m\n\u001b[0;32m      2\u001b[0m     \u001b[0ma1\u001b[0m\u001b[1;33m=\u001b[0m\u001b[1;36m4\u001b[0m\u001b[1;33m\u001b[0m\u001b[0m\n\u001b[1;32m----> 3\u001b[1;33m     \u001b[0mb1\u001b[0m\u001b[1;33m=\u001b[0m\u001b[1;33m[\u001b[0m\u001b[0m_a1\u001b[0m\u001b[1;33m+\u001b[0m\u001b[0mi\u001b[0m \u001b[1;32mfor\u001b[0m \u001b[0mi\u001b[0m \u001b[1;32min\u001b[0m \u001b[0mrange\u001b[0m\u001b[1;33m(\u001b[0m\u001b[1;36m10\u001b[0m\u001b[1;33m)\u001b[0m\u001b[1;33m]\u001b[0m\u001b[1;33m\u001b[0m\u001b[0m\n\u001b[0m\u001b[0;32m      4\u001b[0m     \u001b[0mprint\u001b[0m\u001b[1;33m(\u001b[0m\u001b[0m_b1\u001b[0m\u001b[1;33m)\u001b[0m\u001b[1;33m\u001b[0m\u001b[0m\n",
      "\u001b[1;31mNameError\u001b[0m: name '_a1' is not defined"
     ]
    }
   ],
   "source": [
    "class B(object):\n",
    "    a1=4    \n",
    "    b1=[_a1+i for i in range(10)]\n",
    "    print(_b1)    "
   ]
  },
  {
   "cell_type": "code",
   "execution_count": 9,
   "metadata": {},
   "outputs": [
    {
     "name": "stdout",
     "output_type": "stream",
     "text": [
      "[40, 41, 42, 43, 44, 45, 46, 47, 48, 49]\n"
     ]
    }
   ],
   "source": [
    "a2=40\n",
    "class B(object):\n",
    "    a2=4\n",
    "    b2=[a2+i for i in range(10)]\n",
    "    print(b2)"
   ]
  },
  {
   "cell_type": "markdown",
   "metadata": {},
   "source": [
    "原因是： 对于python3，列表推导式也会引入一个新的namespace，此namespace将作为此列表推导式的local scope. 在定义一个class时也会产生一个新的作用域作为此class的local scope：The inside of a class body is also a new local variable scope. This new scope can never be gobal scope! Varible which are defined in the class body(but outside any class method) are called class atrributes. They can be referenced by their bare names within the same scope, but they can also be accessed from outside this scope, if we use the attribute access operator(.) on a class or an instance.当列表推导式遵循L-->E-->G-->B规则寻找时，(Note：这里的LEGB均是scope)，只有L，G，B这三个scope可以被列表推导式access到。因为E的定义是：the scopes of any ** enclosing functions **,而**B是class不是function**，所以对于列表推导式而言是没有E这个scope的，因此列表推导式将再次向上一层scope寻找并获取到G(Global scope)中的a3=40.\n",
    "\n",
    "注：这里说的无法获取class里面a3指的是无法直接获取(barely without attribute access operator '.'),当我们传入一个instance给function，自然也是可以获取到相应的attribute的。"
   ]
  },
  {
   "cell_type": "code",
   "execution_count": 10,
   "metadata": {},
   "outputs": [
    {
     "ename": "NameError",
     "evalue": "name 'm' is not defined",
     "output_type": "error",
     "traceback": [
      "\u001b[1;31m---------------------------------------------------------------------------\u001b[0m",
      "\u001b[1;31mNameError\u001b[0m                                 Traceback (most recent call last)",
      "\u001b[1;32m<ipython-input-10-35d1b8a2caf2>\u001b[0m in \u001b[0;36m<module>\u001b[1;34m()\u001b[0m\n\u001b[0;32m      1\u001b[0m \u001b[1;33m[\u001b[0m\u001b[0mm\u001b[0m \u001b[1;32mfor\u001b[0m \u001b[0mm\u001b[0m \u001b[1;32min\u001b[0m \u001b[0mrange\u001b[0m\u001b[1;33m(\u001b[0m\u001b[1;36m10\u001b[0m\u001b[1;33m)\u001b[0m\u001b[1;33m]\u001b[0m\u001b[1;33m\u001b[0m\u001b[0m\n\u001b[1;32m----> 2\u001b[1;33m \u001b[0mprint\u001b[0m\u001b[1;33m(\u001b[0m\u001b[0mm\u001b[0m\u001b[1;33m)\u001b[0m\u001b[1;33m\u001b[0m\u001b[0m\n\u001b[0m",
      "\u001b[1;31mNameError\u001b[0m: name 'm' is not defined"
     ]
    }
   ],
   "source": [
    "[m for m in range(10)]\n",
    "print(m)"
   ]
  },
  {
   "cell_type": "markdown",
   "metadata": {},
   "source": [
    "Solution: 间接传参"
   ]
  },
  {
   "cell_type": "code",
   "execution_count": 11,
   "metadata": {},
   "outputs": [
    {
     "name": "stdout",
     "output_type": "stream",
     "text": [
      "[4, 5, 6, 7, 8, 9, 10, 11, 12, 13]\n"
     ]
    }
   ],
   "source": [
    "class B(object):\n",
    "    a3=4 \n",
    "    def getB3(self):\n",
    "        b3=[self.a3+i for i in range(10)]\n",
    "        print(b3)\n",
    "\n",
    "B().getB3()"
   ]
  },
  {
   "cell_type": "code",
   "execution_count": 12,
   "metadata": {},
   "outputs": [
    {
     "name": "stdout",
     "output_type": "stream",
     "text": [
      "[4, 5, 6, 7, 8, 9, 10, 11, 12, 13]\n"
     ]
    }
   ],
   "source": [
    "class B(object):\n",
    "    a4=4\n",
    "    b4=(lambda a: [a + i for i in range(10)])\n",
    "    print(b4(a4))"
   ]
  },
  {
   "cell_type": "markdown",
   "metadata": {},
   "source": [
    "Python除了def/class/lambda以及列表推导式外，其他如：if/elif/else try/except for/while并不会引入新的作用域。对于后者来说，即便在它们内部定义的变量，在外部也可以访问。"
   ]
  },
  {
   "cell_type": "code",
   "execution_count": 13,
   "metadata": {},
   "outputs": [
    {
     "name": "stdout",
     "output_type": "stream",
     "text": [
      "python_if_scope\n",
      "python_if_scope\n"
     ]
    }
   ],
   "source": [
    "if True:\n",
    "    # this is still a global variable\n",
    "    x3='python_if_scope'\n",
    "    print(x3)\n",
    "\n",
    "print(x3)"
   ]
  },
  {
   "cell_type": "markdown",
   "metadata": {},
   "source": [
    "**注意：**for后面跟着的变量(target list)在循环结束后不会被删除：for-loop variables “leaking” into the global namespace"
   ]
  },
  {
   "cell_type": "code",
   "execution_count": 14,
   "metadata": {},
   "outputs": [
    {
     "name": "stdout",
     "output_type": "stream",
     "text": [
      "0\n",
      "1\n",
      "2\n",
      "3\n",
      "4\n",
      "5\n",
      "6\n",
      "7\n",
      "8\n",
      "9\n",
      "continue print outof ForLoop:  9\n"
     ]
    }
   ],
   "source": [
    "for i in range(10): \n",
    "    print(i)\n",
    "    \n",
    "print(\"continue print outof ForLoop: \", i)"
   ]
  }
 ],
 "metadata": {
  "kernelspec": {
   "display_name": "Python 3",
   "language": "python",
   "name": "python3"
  },
  "language_info": {
   "codemirror_mode": {
    "name": "ipython",
    "version": 3
   },
   "file_extension": ".py",
   "mimetype": "text/x-python",
   "name": "python",
   "nbconvert_exporter": "python",
   "pygments_lexer": "ipython3",
   "version": "3.6.3"
  }
 },
 "nbformat": 4,
 "nbformat_minor": 2
}
